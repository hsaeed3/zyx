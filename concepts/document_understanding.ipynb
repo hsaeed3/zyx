{
 "cells": [
  {
   "cell_type": "markdown",
   "metadata": {},
   "source": [
    "## **Using `zyx` for Document Understanding**\n",
    "\n"
   ]
  },
  {
   "cell_type": "markdown",
   "metadata": {},
   "source": [
    "A heavy focus point of the `zyx` library is quick utility for document understanding & inference (RAG). </br>\n",
    "\n",
    "In this concept, we will be using `zyx` in the modular or use case specific manner, utilizing the `data` and `llm` modules. </br>\n",
    "\n",
    "*Lets first load up our document.*\n"
   ]
  },
  {
   "cell_type": "code",
   "execution_count": 1,
   "metadata": {},
   "outputs": [],
   "source": [
    "from zyx import data, llm"
   ]
  },
  {
   "cell_type": "code",
   "execution_count": 2,
   "metadata": {},
   "outputs": [],
   "source": [
    "# Load the document (Located in the documents/ directory)\n",
    "document = data.read(\"documents/large_language_monkeys.pdf\")"
   ]
  },
  {
   "cell_type": "code",
   "execution_count": 3,
   "metadata": {},
   "outputs": [],
   "source": [
    "chunks = data.chunk(document)"
   ]
  }
 ],
 "metadata": {
  "kernelspec": {
   "display_name": "zyx",
   "language": "python",
   "name": "python3"
  },
  "language_info": {
   "codemirror_mode": {
    "name": "ipython",
    "version": 3
   },
   "file_extension": ".py",
   "mimetype": "text/x-python",
   "name": "python",
   "nbconvert_exporter": "python",
   "pygments_lexer": "ipython3",
   "version": "3.11.9"
  }
 },
 "nbformat": 4,
 "nbformat_minor": 2
}
