{
 "cells": [
  {
   "cell_type": "markdown",
   "metadata": {},
   "source": [
    "# **This notebook is a reference for all current functions and classes in `zyx`**\n",
    "\n",
    "> *Currently it is skimping out on details & descriptions, but will be updated soon.*"
   ]
  },
  {
   "cell_type": "markdown",
   "metadata": {},
   "source": [
    "### **Ways to use `zyx`**"
   ]
  },
  {
   "cell_type": "code",
   "execution_count": 1,
   "metadata": {},
   "outputs": [],
   "source": [
    "# Single module (built to be used this way)\n",
    "import zyx\n",
    "\n",
    "# zyx.completion()\n",
    "# zyx.chunk()\n",
    "\n",
    "\n",
    "# 'Task Oriented Objects'\n",
    "from zyx import data, llm\n",
    "\n",
    "# data.chunk()\n",
    "# llm.completion()"
   ]
  },
  {
   "cell_type": "markdown",
   "metadata": {},
   "source": [
    "### **LLM Completions**"
   ]
  },
  {
   "cell_type": "markdown",
   "metadata": {},
   "source": [
    "```python\n",
    "import zyx\n",
    "zyx.completion()\n",
    "\n",
    "from zyx import llm\n",
    "llm.completion()\n",
    "\n",
    "from zyx import completion\n",
    "completion()\n",
    "```"
   ]
  },
  {
   "cell_type": "markdown",
   "metadata": {},
   "source": [
    "***Base Completions***"
   ]
  },
  {
   "cell_type": "code",
   "execution_count": 2,
   "metadata": {},
   "outputs": [
    {
     "data": {
      "text/html": [
       "<pre style=\"white-space:pre;overflow-x:auto;line-height:normal;font-family:Menlo,'DejaVu Sans Mono',consolas,'Courier New',monospace\">Hello! I'm here and ready to help you with any questions or topics you'd like to discuss. What’s on your mind?\n",
       "</pre>\n"
      ],
      "text/plain": [
       "Hello! I'm here and ready to help you with any questions or topics you'd like to discuss. What’s on your mind?\n"
      ]
     },
     "metadata": {},
     "output_type": "display_data"
    }
   ],
   "source": [
    "response = zyx.completion(\"Hi, whats up?\")\n",
    "\n",
    "# Returns an OpenAI ChatCompletion object\n",
    "print(response.choices[0].message.content)"
   ]
  },
  {
   "cell_type": "code",
   "execution_count": 3,
   "metadata": {},
   "outputs": [
    {
     "data": {
      "text/html": [
       "<pre style=\"white-space:pre;overflow-x:auto;line-height:normal;font-family:Menlo,'DejaVu Sans Mono',consolas,'Courier New',monospace\">Hello! I'm here and ready to help you with any questions or topics you'd like to discuss. What’s on your mind?\n",
       "</pre>\n"
      ],
      "text/plain": [
       "Hello! I'm here and ready to help you with any questions or topics you'd like to discuss. What’s on your mind?\n"
      ]
     },
     "metadata": {},
     "output_type": "display_data"
    }
   ],
   "source": [
    "response = zyx.completion(\n",
    "    messages=[\n",
    "        {\"role\": \"user\", \"content\": \"Hi, whats up?\"}\n",
    "    ],  # Messages can be a string or a list of dicts\n",
    "    model=\"gpt-4o-mini\",\n",
    "    temperature=0.23,\n",
    "    max_tokens=100,\n",
    ")\n",
    "\n",
    "print(response.choices[0].message.content)"
   ]
  },
  {
   "cell_type": "markdown",
   "metadata": {},
   "source": [
    "***Instructor Completions***"
   ]
  },
  {
   "cell_type": "code",
   "execution_count": 4,
   "metadata": {},
   "outputs": [
    {
     "data": {
      "text/html": [
       "<pre style=\"white-space:pre;overflow-x:auto;line-height:normal;font-family:Menlo,'DejaVu Sans Mono',consolas,'Courier New',monospace\">Emotions: \n",
       "<span style=\"font-weight: bold\">[</span><span style=\"color: #008000; text-decoration-color: #008000\">'content'</span>, <span style=\"color: #008000; text-decoration-color: #008000\">'curious'</span><span style=\"font-weight: bold\">]</span>\n",
       "\n",
       "Feeling:  I'm here to assist you!\n",
       "</pre>\n"
      ],
      "text/plain": [
       "Emotions: \n",
       "\u001b[1m[\u001b[0m\u001b[32m'content'\u001b[0m, \u001b[32m'curious'\u001b[0m\u001b[1m]\u001b[0m\n",
       "\n",
       "Feeling:  I'm here to assist you!\n"
      ]
     },
     "metadata": {},
     "output_type": "display_data"
    }
   ],
   "source": [
    "from pydantic import BaseModel\n",
    "\n",
    "\n",
    "# Define a Pydantic Model\n",
    "class HowImFeeling(BaseModel):\n",
    "    emotions: list[str]\n",
    "    feeling: str\n",
    "\n",
    "\n",
    "response = zyx.completion(\n",
    "    \"Hi, whats up, how are you feeling?\",\n",
    "    response_model=HowImFeeling,\n",
    "    # mode = \"tool_call\" # Optionally define the instructor completion mode (defualt is \"tool_call\")\n",
    ")\n",
    "\n",
    "print(\"Emotions: \", response.emotions, \"\\nFeeling: \", response.feeling)"
   ]
  },
  {
   "cell_type": "markdown",
   "metadata": {},
   "source": [
    "***Tool Calling***"
   ]
  },
  {
   "cell_type": "code",
   "execution_count": 5,
   "metadata": {},
   "outputs": [
    {
     "name": "stderr",
     "output_type": "stream",
     "text": [
      "\u001b[32m2024-09-26 00:18:14.038\u001b[0m | \u001b[1mINFO    \u001b[0m | \u001b[36mzyx.lib.completions.client\u001b[0m:\u001b[36m__init_client__\u001b[0m:\u001b[36m90\u001b[0m - \u001b[1mInitialized openai client.\u001b[0m\n",
      "\u001b[32m2024-09-26 00:18:14.039\u001b[0m | \u001b[1mINFO    \u001b[0m | \u001b[36mzyx.lib.completions.client\u001b[0m:\u001b[36m_format_messages\u001b[0m:\u001b[36m194\u001b[0m - \u001b[1mConverting string to message format.\u001b[0m\n",
      "\u001b[32m2024-09-26 00:18:14.044\u001b[0m | \u001b[1mINFO    \u001b[0m | \u001b[36mzyx.lib.completions.client\u001b[0m:\u001b[36m_format_to_openai_tools\u001b[0m:\u001b[36m289\u001b[0m - \u001b[1mFormatted 1 tools.\u001b[0m\n",
      "\u001b[32m2024-09-26 00:18:14.044\u001b[0m | \u001b[1mINFO    \u001b[0m | \u001b[36mzyx.lib.completions.client\u001b[0m:\u001b[36mcompletion\u001b[0m:\u001b[36m512\u001b[0m - \u001b[1mRunning completion with 1 messages, with gpt-4o-mini.\u001b[0m\n",
      "\u001b[32m2024-09-26 00:18:14.045\u001b[0m | \u001b[1mINFO    \u001b[0m | \u001b[36mzyx.lib.completions.client\u001b[0m:\u001b[36m_chat_completion\u001b[0m:\u001b[36m381\u001b[0m - \u001b[1mGenerating response... \n",
      "\u001b[0m\n"
     ]
    },
    {
     "data": {
      "text/html": [
       "<pre style=\"white-space:pre;overflow-x:auto;line-height:normal;font-family:Menlo,'DejaVu Sans Mono',consolas,'Courier New',monospace\"><span style=\"color: #800080; text-decoration-color: #800080; font-weight: bold\">ChatCompletion</span><span style=\"font-weight: bold\">(</span>\n",
       "    <span style=\"color: #808000; text-decoration-color: #808000\">id</span>=<span style=\"color: #008000; text-decoration-color: #008000\">'chatcmpl-ABd3OyvYl8jUiNzTZTDZ2ppCZB3Ho'</span>,\n",
       "    <span style=\"color: #808000; text-decoration-color: #808000\">choices</span>=<span style=\"font-weight: bold\">[</span>\n",
       "        <span style=\"color: #800080; text-decoration-color: #800080; font-weight: bold\">Choice</span><span style=\"font-weight: bold\">(</span>\n",
       "            <span style=\"color: #808000; text-decoration-color: #808000\">finish_reason</span>=<span style=\"color: #008000; text-decoration-color: #008000\">'tool_calls'</span>,\n",
       "            <span style=\"color: #808000; text-decoration-color: #808000\">index</span>=<span style=\"color: #008080; text-decoration-color: #008080; font-weight: bold\">0</span>,\n",
       "            <span style=\"color: #808000; text-decoration-color: #808000\">logprobs</span>=<span style=\"color: #800080; text-decoration-color: #800080; font-style: italic\">None</span>,\n",
       "            <span style=\"color: #808000; text-decoration-color: #808000\">message</span>=<span style=\"color: #800080; text-decoration-color: #800080; font-weight: bold\">ChatCompletionMessage</span><span style=\"font-weight: bold\">(</span>\n",
       "                <span style=\"color: #808000; text-decoration-color: #808000\">content</span>=<span style=\"color: #800080; text-decoration-color: #800080; font-style: italic\">None</span>,\n",
       "                <span style=\"color: #808000; text-decoration-color: #808000\">refusal</span>=<span style=\"color: #800080; text-decoration-color: #800080; font-style: italic\">None</span>,\n",
       "                <span style=\"color: #808000; text-decoration-color: #808000\">role</span>=<span style=\"color: #008000; text-decoration-color: #008000\">'assistant'</span>,\n",
       "                <span style=\"color: #808000; text-decoration-color: #808000\">function_call</span>=<span style=\"color: #800080; text-decoration-color: #800080; font-style: italic\">None</span>,\n",
       "                <span style=\"color: #808000; text-decoration-color: #808000\">tool_calls</span>=<span style=\"font-weight: bold\">[</span>\n",
       "                    <span style=\"color: #800080; text-decoration-color: #800080; font-weight: bold\">ChatCompletionMessageToolCall</span><span style=\"font-weight: bold\">(</span>\n",
       "                        <span style=\"color: #808000; text-decoration-color: #808000\">id</span>=<span style=\"color: #008000; text-decoration-color: #008000\">'call_97DmQA55zhhZAzkg0OaoPAnu'</span>,\n",
       "                        <span style=\"color: #808000; text-decoration-color: #808000\">function</span>=<span style=\"color: #800080; text-decoration-color: #800080; font-weight: bold\">Function</span><span style=\"font-weight: bold\">(</span><span style=\"color: #808000; text-decoration-color: #808000\">arguments</span>=<span style=\"color: #008000; text-decoration-color: #008000\">'{\"query\":\"2024 Euro Cup final winner\"}'</span>, <span style=\"color: #808000; text-decoration-color: #808000\">name</span>=<span style=\"color: #008000; text-decoration-color: #008000\">'web_search'</span><span style=\"font-weight: bold\">)</span>,\n",
       "                        <span style=\"color: #808000; text-decoration-color: #808000\">type</span>=<span style=\"color: #008000; text-decoration-color: #008000\">'function'</span>\n",
       "                    <span style=\"font-weight: bold\">)</span>\n",
       "                <span style=\"font-weight: bold\">]</span>\n",
       "            <span style=\"font-weight: bold\">)</span>\n",
       "        <span style=\"font-weight: bold\">)</span>\n",
       "    <span style=\"font-weight: bold\">]</span>,\n",
       "    <span style=\"color: #808000; text-decoration-color: #808000\">created</span>=<span style=\"color: #008080; text-decoration-color: #008080; font-weight: bold\">1727335094</span>,\n",
       "    <span style=\"color: #808000; text-decoration-color: #808000\">model</span>=<span style=\"color: #008000; text-decoration-color: #008000\">'gpt-4o-mini-2024-07-18'</span>,\n",
       "    <span style=\"color: #808000; text-decoration-color: #808000\">object</span>=<span style=\"color: #008000; text-decoration-color: #008000\">'chat.completion'</span>,\n",
       "    <span style=\"color: #808000; text-decoration-color: #808000\">service_tier</span>=<span style=\"color: #800080; text-decoration-color: #800080; font-style: italic\">None</span>,\n",
       "    <span style=\"color: #808000; text-decoration-color: #808000\">system_fingerprint</span>=<span style=\"color: #008000; text-decoration-color: #008000\">'fp_1bb46167f9'</span>,\n",
       "    <span style=\"color: #808000; text-decoration-color: #808000\">usage</span>=<span style=\"color: #800080; text-decoration-color: #800080; font-weight: bold\">CompletionUsage</span><span style=\"font-weight: bold\">(</span>\n",
       "        <span style=\"color: #808000; text-decoration-color: #808000\">completion_tokens</span>=<span style=\"color: #008080; text-decoration-color: #008080; font-weight: bold\">19</span>,\n",
       "        <span style=\"color: #808000; text-decoration-color: #808000\">prompt_tokens</span>=<span style=\"color: #008080; text-decoration-color: #008080; font-weight: bold\">67</span>,\n",
       "        <span style=\"color: #808000; text-decoration-color: #808000\">total_tokens</span>=<span style=\"color: #008080; text-decoration-color: #008080; font-weight: bold\">86</span>,\n",
       "        <span style=\"color: #808000; text-decoration-color: #808000\">completion_tokens_details</span>=<span style=\"color: #800080; text-decoration-color: #800080; font-weight: bold\">CompletionTokensDetails</span><span style=\"font-weight: bold\">(</span><span style=\"color: #808000; text-decoration-color: #808000\">reasoning_tokens</span>=<span style=\"color: #008080; text-decoration-color: #008080; font-weight: bold\">0</span><span style=\"font-weight: bold\">)</span>\n",
       "    <span style=\"font-weight: bold\">)</span>\n",
       "<span style=\"font-weight: bold\">)</span>\n",
       "</pre>\n"
      ],
      "text/plain": [
       "\u001b[1;35mChatCompletion\u001b[0m\u001b[1m(\u001b[0m\n",
       "    \u001b[33mid\u001b[0m=\u001b[32m'chatcmpl-ABd3OyvYl8jUiNzTZTDZ2ppCZB3Ho'\u001b[0m,\n",
       "    \u001b[33mchoices\u001b[0m=\u001b[1m[\u001b[0m\n",
       "        \u001b[1;35mChoice\u001b[0m\u001b[1m(\u001b[0m\n",
       "            \u001b[33mfinish_reason\u001b[0m=\u001b[32m'tool_calls'\u001b[0m,\n",
       "            \u001b[33mindex\u001b[0m=\u001b[1;36m0\u001b[0m,\n",
       "            \u001b[33mlogprobs\u001b[0m=\u001b[3;35mNone\u001b[0m,\n",
       "            \u001b[33mmessage\u001b[0m=\u001b[1;35mChatCompletionMessage\u001b[0m\u001b[1m(\u001b[0m\n",
       "                \u001b[33mcontent\u001b[0m=\u001b[3;35mNone\u001b[0m,\n",
       "                \u001b[33mrefusal\u001b[0m=\u001b[3;35mNone\u001b[0m,\n",
       "                \u001b[33mrole\u001b[0m=\u001b[32m'assistant'\u001b[0m,\n",
       "                \u001b[33mfunction_call\u001b[0m=\u001b[3;35mNone\u001b[0m,\n",
       "                \u001b[33mtool_calls\u001b[0m=\u001b[1m[\u001b[0m\n",
       "                    \u001b[1;35mChatCompletionMessageToolCall\u001b[0m\u001b[1m(\u001b[0m\n",
       "                        \u001b[33mid\u001b[0m=\u001b[32m'call_97DmQA55zhhZAzkg0OaoPAnu'\u001b[0m,\n",
       "                        \u001b[33mfunction\u001b[0m=\u001b[1;35mFunction\u001b[0m\u001b[1m(\u001b[0m\u001b[33marguments\u001b[0m=\u001b[32m'\u001b[0m\u001b[32m{\u001b[0m\u001b[32m\"query\":\"2024 Euro Cup final winner\"\u001b[0m\u001b[32m}\u001b[0m\u001b[32m'\u001b[0m, \u001b[33mname\u001b[0m=\u001b[32m'web_search'\u001b[0m\u001b[1m)\u001b[0m,\n",
       "                        \u001b[33mtype\u001b[0m=\u001b[32m'function'\u001b[0m\n",
       "                    \u001b[1m)\u001b[0m\n",
       "                \u001b[1m]\u001b[0m\n",
       "            \u001b[1m)\u001b[0m\n",
       "        \u001b[1m)\u001b[0m\n",
       "    \u001b[1m]\u001b[0m,\n",
       "    \u001b[33mcreated\u001b[0m=\u001b[1;36m1727335094\u001b[0m,\n",
       "    \u001b[33mmodel\u001b[0m=\u001b[32m'gpt-4o-mini-2024-07-18'\u001b[0m,\n",
       "    \u001b[33mobject\u001b[0m=\u001b[32m'chat.completion'\u001b[0m,\n",
       "    \u001b[33mservice_tier\u001b[0m=\u001b[3;35mNone\u001b[0m,\n",
       "    \u001b[33msystem_fingerprint\u001b[0m=\u001b[32m'fp_1bb46167f9'\u001b[0m,\n",
       "    \u001b[33musage\u001b[0m=\u001b[1;35mCompletionUsage\u001b[0m\u001b[1m(\u001b[0m\n",
       "        \u001b[33mcompletion_tokens\u001b[0m=\u001b[1;36m19\u001b[0m,\n",
       "        \u001b[33mprompt_tokens\u001b[0m=\u001b[1;36m67\u001b[0m,\n",
       "        \u001b[33mtotal_tokens\u001b[0m=\u001b[1;36m86\u001b[0m,\n",
       "        \u001b[33mcompletion_tokens_details\u001b[0m=\u001b[1;35mCompletionTokensDetails\u001b[0m\u001b[1m(\u001b[0m\u001b[33mreasoning_tokens\u001b[0m=\u001b[1;36m0\u001b[0m\u001b[1m)\u001b[0m\n",
       "    \u001b[1m)\u001b[0m\n",
       "\u001b[1m)\u001b[0m\n"
      ]
     },
     "metadata": {},
     "output_type": "display_data"
    }
   ],
   "source": [
    "response = zyx.completion(\n",
    "    \"Who won the 2024 Euro Cup final?\",\n",
    "    tools=[zyx.tools.web_search],\n",
    "    run_tools=False,\n",
    "    verbose=True,\n",
    ")\n",
    "\n",
    "print(response)"
   ]
  },
  {
   "cell_type": "markdown",
   "metadata": {},
   "source": [
    "***Tool Execution***"
   ]
  },
  {
   "cell_type": "code",
   "execution_count": 6,
   "metadata": {},
   "outputs": [
    {
     "name": "stderr",
     "output_type": "stream",
     "text": [
      "/Users/hammad/miniconda3/envs/zyx/lib/python3.11/site-packages/pydantic/main.py:390: UserWarning: Pydantic serializer warnings:\n",
      "  Expected `str` but got `list` with value `[{'id': 'call_w9BVT7iRbgF...'}, 'type': 'function'}]` - serialized value may not be as expected\n",
      "  return self.__pydantic_serializer__.to_python(\n"
     ]
    },
    {
     "data": {
      "text/html": [
       "<pre style=\"white-space:pre;overflow-x:auto;line-height:normal;font-family:Menlo,'DejaVu Sans Mono',consolas,'Courier New',monospace\">Spain won the <span style=\"color: #008080; text-decoration-color: #008080; font-weight: bold\">2024</span> Euro Cup final, defeating England <span style=\"color: #008080; text-decoration-color: #008080; font-weight: bold\">2</span>-<span style=\"color: #008080; text-decoration-color: #008080; font-weight: bold\">1</span> in a dramatic match held in Berlin. This victory marked \n",
       "Spain's record-breaking fourth European Championship title.\n",
       "</pre>\n"
      ],
      "text/plain": [
       "Spain won the \u001b[1;36m2024\u001b[0m Euro Cup final, defeating England \u001b[1;36m2\u001b[0m-\u001b[1;36m1\u001b[0m in a dramatic match held in Berlin. This victory marked \n",
       "Spain's record-breaking fourth European Championship title.\n"
      ]
     },
     "metadata": {},
     "output_type": "display_data"
    }
   ],
   "source": [
    "response = zyx.completion(\n",
    "    \"Who won the 2024 Euro Cup final?\", tools=[zyx.tools.web_search], run_tools=True\n",
    ")\n",
    "\n",
    "print(response.choices[0].message.content)"
   ]
  },
  {
   "cell_type": "markdown",
   "metadata": {},
   "source": [
    "### **Document Stores (Rag) & Functions**"
   ]
  },
  {
   "cell_type": "markdown",
   "metadata": {},
   "source": [
    "***Reading Documents***"
   ]
  },
  {
   "cell_type": "code",
   "execution_count": 9,
   "metadata": {},
   "outputs": [
    {
     "data": {
      "text/html": [
       "<pre style=\"white-space:pre;overflow-x:auto;line-height:normal;font-family:Menlo,'DejaVu Sans Mono',consolas,'Courier New',monospace\">TXT test file\n",
       "Purpose: Provide example of this file type\n",
       "Document file type: TXT\n",
       "Version: <span style=\"color: #008080; text-decoration-color: #008080; font-weight: bold\">1.0</span>\n",
       "Remark:\n",
       "\n",
       "Example content:\n",
       "The names <span style=\"color: #008000; text-decoration-color: #008000\">\"John Doe\"</span> for males, <span style=\"color: #008000; text-decoration-color: #008000\">\"Jane Doe\"</span> or <span style=\"color: #008000; text-decoration-color: #008000\">\"Jane Roe\"</span> for females, or \"Jonnie\n",
       "</pre>\n"
      ],
      "text/plain": [
       "TXT test file\n",
       "Purpose: Provide example of this file type\n",
       "Document file type: TXT\n",
       "Version: \u001b[1;36m1.0\u001b[0m\n",
       "Remark:\n",
       "\n",
       "Example content:\n",
       "The names \u001b[32m\"John Doe\"\u001b[0m for males, \u001b[32m\"Jane Doe\"\u001b[0m or \u001b[32m\"Jane Roe\"\u001b[0m for females, or \"Jonnie\n"
      ]
     },
     "metadata": {},
     "output_type": "display_data"
    }
   ],
   "source": [
    "document = zyx.read(\"https://example-files.online-convert.com/document/txt/example.txt\")\n",
    "\n",
    "# Optionally return a string\n",
    "# document = zyx.read(\n",
    "#     path = \"Your File or URL path\",\n",
    "#     output = str    # Default is \"document\"\n",
    "# )\n",
    "\n",
    "# Returns a Document object\n",
    "print(document.content[:200])"
   ]
  },
  {
   "cell_type": "markdown",
   "metadata": {},
   "source": [
    "***Querying Documents***"
   ]
  },
  {
   "cell_type": "code",
   "execution_count": null,
   "metadata": {},
   "outputs": [],
   "source": [
    "# Document objects can be directly queried\n",
    "# All supported arguments of `completion` are supported\n",
    "response = document.query(\"What is this document?\")\n",
    "\n",
    "print(response.choices[0].message.content)"
   ]
  },
  {
   "cell_type": "markdown",
   "metadata": {},
   "source": [
    "***Sql Store (BM25 Search)***"
   ]
  },
  {
   "cell_type": "markdown",
   "metadata": {},
   "source": [
    "***Vector Store (Embeddings/QdrantClient)***"
   ]
  },
  {
   "cell_type": "markdown",
   "metadata": {},
   "source": [
    "***Rag Store (Hybrid)***"
   ]
  }
 ],
 "metadata": {
  "kernelspec": {
   "display_name": "zyx",
   "language": "python",
   "name": "python3"
  },
  "language_info": {
   "codemirror_mode": {
    "name": "ipython",
    "version": 3
   },
   "file_extension": ".py",
   "mimetype": "text/x-python",
   "name": "python",
   "nbconvert_exporter": "python",
   "pygments_lexer": "ipython3",
   "version": "3.11.9"
  }
 },
 "nbformat": 4,
 "nbformat_minor": 2
}
