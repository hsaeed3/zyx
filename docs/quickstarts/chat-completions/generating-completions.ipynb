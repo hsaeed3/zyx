{
 "cells": [
  {
   "cell_type": "markdown",
   "metadata": {},
   "source": [
    "# Generating Completions\n",
    "\n",
    "The whole point of `zyx` is ensuring working with LLMs as chat models is as quick as possible. \n",
    "\n",
    "---\n",
    "\n",
    "There are two ways to use all of the LLM functions in `zyx`:\n",
    "\n",
    "<div class=\"grid cards\" markdown>\n",
    "\n",
    "- Running the function through the `Completions` client\n",
    "- Running the function straight from the `zyx` namespace\n",
    "\n",
    "</div>\n",
    "\n",
    "<br/>\n",
    "\n",
    "Although simpler, the advantage of using the `Completions` client is that it only needs to instantiate a single client object; furthermore, the `Agentic Framework` is only available as a method of the `Completions` client.\n",
    "\n",
    "The following sections will through the various features of the `.completion()` method.\n",
    "\n",
    "---\n",
    "\n",
    "## Standard Chat Completions"
   ]
  },
  {
   "cell_type": "markdown",
   "metadata": {},
   "source": [
    "### Completion w/ Completions Client"
   ]
  },
  {
   "cell_type": "code",
   "execution_count": 1,
   "metadata": {},
   "outputs": [
    {
     "data": {
      "text/html": [
       "<pre style=\"white-space:pre;overflow-x:auto;line-height:normal;font-family:Menlo,'DejaVu Sans Mono',consolas,'Courier New',monospace\">Hello! How can I assist you today?\n",
       "</pre>\n"
      ],
      "text/plain": [
       "Hello! How can I assist you today?\n"
      ]
     },
     "metadata": {},
     "output_type": "display_data"
    }
   ],
   "source": [
    "# import the completions client\n",
    "from zyx import Completions\n",
    "\n",
    "# create a completions client\n",
    "client = Completions()\n",
    "\n",
    "# create a completion\n",
    "completion = client.completion(\n",
    "    messages = [{\"role\": \"user\", \"content\": \"Hello!\"}],\n",
    "    model = \"gpt-4o-mini\"\n",
    ")\n",
    "\n",
    "# print the completion content\n",
    "# responses are returned as the openai `ChatCompletion` object\n",
    "print(completion.choices[0].message.content)"
   ]
  },
  {
   "cell_type": "markdown",
   "metadata": {},
   "source": [
    "### Using .completion() directly"
   ]
  },
  {
   "cell_type": "code",
   "execution_count": 3,
   "metadata": {},
   "outputs": [
    {
     "data": {
      "text/html": [
       "<pre style=\"white-space:pre;overflow-x:auto;line-height:normal;font-family:Menlo,'DejaVu Sans Mono',consolas,'Courier New',monospace\">Hello! How can I assist you today?\n",
       "</pre>\n"
      ],
      "text/plain": [
       "Hello! How can I assist you today?\n"
      ]
     },
     "metadata": {},
     "output_type": "display_data"
    }
   ],
   "source": [
    "# import zyx (or just import the `completion` function)\n",
    "import zyx as z\n",
    "\n",
    "# create a completion\n",
    "completion = z.completion(\n",
    "    messages = \"Hello!\", # messages can be passed in as a string\n",
    "\n",
    "    # supports all standard chat completion arguments\n",
    "    temperature = 0.5,\n",
    "    max_completion_tokens = 10, # openai has swapped `max_tokens` for `max_completion_tokens`, this is the new default\n",
    "    top_p = 0.9,\n",
    ")\n",
    "\n",
    "# print the completion content\n",
    "print(completion.choices[0].message.content)"
   ]
  },
  {
   "cell_type": "markdown",
   "metadata": {},
   "source": [
    "## Use Any LiteLLM Model\n",
    "\n",
    "The completions client is a unified wrapper around both the OpenAI & LiteLLM clients, so if you are using a LiteLLM model, you can use it as you normally would; the client will automatically detect the model and use the appropriate client."
   ]
  },
  {
   "cell_type": "code",
   "execution_count": 4,
   "metadata": {},
   "outputs": [
    {
     "data": {
      "text/html": [
       "<pre style=\"white-space:pre;overflow-x:auto;line-height:normal;font-family:Menlo,'DejaVu Sans Mono',consolas,'Courier New',monospace\">Hello! I'm here to help answer your questions. How can I assist you today?\n",
       "</pre>\n"
      ],
      "text/plain": [
       "Hello! I'm here to help answer your questions. How can I assist you today?\n"
      ]
     },
     "metadata": {},
     "output_type": "display_data"
    }
   ],
   "source": [
    "# we'll import the function itself this time\n",
    "from zyx import completion\n",
    "\n",
    "# create a completion using an ollama model\n",
    "response = completion(\"hi whats up?\", model = \"ollama/granite3-moe\")\n",
    "\n",
    "# print the response\n",
    "print(response.choices[0].message.content)"
   ]
  },
  {
   "cell_type": "markdown",
   "metadata": {},
   "source": [
    "## Streaming\n",
    "\n",
    "Streaming support is built in through the `openai.OpenAI.chat.completions.create()` method, so it is supported out of the box."
   ]
  },
  {
   "cell_type": "code",
   "execution_count": 10,
   "metadata": {},
   "outputs": [],
   "source": [
    "# import zyx\n",
    "import zyx as z\n",
    "\n",
    "# create a streaming completion\n",
    "response = z.completion(\n",
    "    messages = [\n",
    "        {\"role\" : \"system\", \"content\" : \"You only respond in French.\"},\n",
    "        {\"role\" : \"user\", \"content\" : \"hi whats up?\"}\n",
    "    ],\n",
    "    model = \"ollama/granite3-moe\",\n",
    "    stream = True\n",
    ")\n",
    "\n",
    "# print the response\n",
    "# for chunk in response:\n",
    "#     print(chunk.choices[0].delta.content or \"\", end = \"\")\n"
   ]
  },
  {
   "cell_type": "markdown",
   "metadata": {},
   "source": [
    "The following section will cover generating structured outputs through the `completion()` function."
   ]
  }
 ],
 "metadata": {
  "kernelspec": {
   "display_name": ".venv",
   "language": "python",
   "name": "python3"
  },
  "language_info": {
   "codemirror_mode": {
    "name": "ipython",
    "version": 3
   },
   "file_extension": ".py",
   "mimetype": "text/x-python",
   "name": "python",
   "nbconvert_exporter": "python",
   "pygments_lexer": "ipython3",
   "version": "3.11.10"
  }
 },
 "nbformat": 4,
 "nbformat_minor": 2
}
