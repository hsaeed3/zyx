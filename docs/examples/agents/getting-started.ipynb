{
 "cells": [
  {
   "cell_type": "markdown",
   "metadata": {},
   "source": [
    "# **Getting Started with Agents in `zyx`**\n"
   ]
  },
  {
   "cell_type": "markdown",
   "metadata": {},
   "source": [
    "## **What Defines `Agents` in `zyx`?**\n",
    "\n",
    "Agents in `zyx` build a shared thread of messages, which are used to build various complex interactions."
   ]
  },
  {
   "cell_type": "markdown",
   "metadata": {},
   "source": [
    "### Creating a Simple Web Search Chatbot"
   ]
  },
  {
   "cell_type": "code",
   "execution_count": 2,
   "metadata": {},
   "outputs": [
    {
     "data": {
      "text/html": [
       "<pre style=\"white-space:pre;overflow-x:auto;line-height:normal;font-family:Menlo,'DejaVu Sans Mono',consolas,'Courier New',monospace\">I found multiple sources for the current weather in San Francisco. You can check one of the following links for \n",
       "live updates:\n",
       "\n",
       "<span style=\"color: #008080; text-decoration-color: #008080; font-weight: bold\">1</span>. <span style=\"font-weight: bold\">[</span>National Weather \n",
       "Service<span style=\"font-weight: bold\">](</span><span style=\"color: #0000ff; text-decoration-color: #0000ff; text-decoration: underline\">https://forecast.weather.gov/MapClick.php?lon=-122.45009767894153&amp;lat=37.78809664223884)</span>\n",
       "<span style=\"color: #008080; text-decoration-color: #008080; font-weight: bold\">2</span>. <span style=\"font-weight: bold\">[</span>AccuWeather<span style=\"font-weight: bold\">](</span><span style=\"color: #0000ff; text-decoration-color: #0000ff; text-decoration: underline\">https://www.accuweather.com/en/us/san-francisco/94103/weather-forecast/347629)</span>\n",
       "<span style=\"color: #008080; text-decoration-color: #008080; font-weight: bold\">3</span>. <span style=\"font-weight: bold\">[</span>Weather.com<span style=\"font-weight: bold\">](</span><span style=\"color: #0000ff; text-decoration-color: #0000ff; text-decoration: underline\">https://weather.com/weather/today/l/San+Francisco+CA+94104:4:US)</span>\n",
       "\n",
       "Feel free to click on any of these links to get detailed information!\n",
       "</pre>\n"
      ],
      "text/plain": [
       "I found multiple sources for the current weather in San Francisco. You can check one of the following links for \n",
       "live updates:\n",
       "\n",
       "\u001b[1;36m1\u001b[0m. \u001b[1m[\u001b[0mNational Weather \n",
       "Service\u001b[1m]\u001b[0m\u001b[1m(\u001b[0m\u001b[4;94mhttps://forecast.weather.gov/MapClick.php?\u001b[0m\u001b[4;94mlon\u001b[0m\u001b[4;94m=-122.45009767894153&\u001b[0m\u001b[4;94mlat\u001b[0m\u001b[4;94m=\u001b[0m\u001b[4;94m37\u001b[0m\u001b[4;94m.78809664223884\u001b[0m\u001b[4;94m)\u001b[0m\n",
       "\u001b[1;36m2\u001b[0m. \u001b[1m[\u001b[0mAccuWeather\u001b[1m]\u001b[0m\u001b[1m(\u001b[0m\u001b[4;94mhttps://www.accuweather.com/en/us/san-francisco/94103/weather-forecast/347629\u001b[0m\u001b[4;94m)\u001b[0m\n",
       "\u001b[1;36m3\u001b[0m. \u001b[1m[\u001b[0mWeather.com\u001b[1m]\u001b[0m\u001b[1m(\u001b[0m\u001b[4;94mhttps://weather.com/weather/today/l/San+Francisco+CA+94104:4:US\u001b[0m\u001b[4;94m)\u001b[0m\n",
       "\n",
       "Feel free to click on any of these links to get detailed information!\n"
      ]
     },
     "metadata": {},
     "output_type": "display_data"
    }
   ],
   "source": [
    "from zyx import Completions\n",
    "# zyx.data contains a variety of data & data retrieval modules such as\n",
    "# web scrapers, vector databases, etc.\n",
    "from zyx.data import web_search\n",
    "\n",
    "# initialize agents\n",
    "agents = Completions().agents()\n",
    "\n",
    "# to create this simple use case, we dont need to explicitly\n",
    "# create an agent, the default workflow is in its own sense, an agent\n",
    "\n",
    "# lets create a tool\n",
    "def search_web(query: str):\n",
    "    \"\"\"Searches the web for a given query\"\"\"\n",
    "    return web_search(query)\n",
    "\n",
    "# we can use the web search tool to search the web\n",
    "response = agents.completion(\n",
    "    message = \"What is the weather in SF?\",\n",
    "    tools = [search_web]\n",
    ")\n",
    "\n",
    "# print content of the response\n",
    "print(response.choices[0].message.content)"
   ]
  },
  {
   "cell_type": "code",
   "execution_count": 3,
   "metadata": {},
   "outputs": [
    {
     "data": {
      "text/html": [
       "<pre style=\"white-space:pre;overflow-x:auto;line-height:normal;font-family:Menlo,'DejaVu Sans Mono',consolas,'Courier New',monospace\">You asked about the weather in San Francisco.\n",
       "</pre>\n"
      ],
      "text/plain": [
       "You asked about the weather in San Francisco.\n"
      ]
     },
     "metadata": {},
     "output_type": "display_data"
    }
   ],
   "source": [
    "# Now we can continue the conversation\n",
    "response = agents.completion(\n",
    "    \"What city did i just ask about?\"\n",
    ")\n",
    "\n",
    "# the agent will remember the previous messages\n",
    "print(response.choices[0].message.content)"
   ]
  },
  {
   "cell_type": "markdown",
   "metadata": {},
   "source": [
    "## **Working with Objects**"
   ]
  },
  {
   "cell_type": "code",
   "execution_count": 6,
   "metadata": {},
   "outputs": [
    {
     "data": {
      "text/html": [
       "<pre style=\"white-space:pre;overflow-x:auto;line-height:normal;font-family:Menlo,'DejaVu Sans Mono',consolas,'Courier New',monospace\"><span style=\"color: #005fff; text-decoration-color: #005fff; font-weight: bold\">😎 </span><span style=\"color: #005fff; text-decoration-color: #005fff; font-weight: bold; font-style: italic\">None</span> Initialized.\n",
       "</pre>\n"
      ],
      "text/plain": [
       "\u001b[1;38;5;27m😎 \u001b[0m\u001b[1;3;38;5;27mNone\u001b[0m Initialized.\n"
      ]
     },
     "metadata": {},
     "output_type": "display_data"
    },
    {
     "data": {
      "application/vnd.jupyter.widget-view+json": {
       "model_id": "f47578a6476446f0a1dc7de3fdbf2981",
       "version_major": 2,
       "version_minor": 0
      },
      "text/plain": [
       "Output()"
      ]
     },
     "metadata": {},
     "output_type": "display_data"
    },
    {
     "data": {
      "text/html": [
       "<pre style=\"white-space:pre;overflow-x:auto;line-height:normal;font-family:Menlo,'DejaVu Sans Mono',consolas,'Courier New',monospace\"></pre>\n"
      ],
      "text/plain": []
     },
     "metadata": {},
     "output_type": "display_data"
    },
    {
     "data": {
      "text/html": [
       "<pre style=\"white-space:pre;overflow-x:auto;line-height:normal;font-family:Menlo,'DejaVu Sans Mono',consolas,'Courier New',monospace\"><span style=\"color: #800080; text-decoration-color: #800080; font-weight: bold\">ValidationResult</span><span style=\"font-weight: bold\">(</span>\n",
       "    <span style=\"color: #808000; text-decoration-color: #808000\">is_valid</span>=<span style=\"color: #ff0000; text-decoration-color: #ff0000; font-style: italic\">False</span>,\n",
       "    <span style=\"color: #808000; text-decoration-color: #808000\">explanation</span>=<span style=\"color: #008000; text-decoration-color: #008000\">\"The object has a topic of 'JavaScript', but based on the user message 'I want to get started </span>\n",
       "<span style=\"color: #008000; text-decoration-color: #008000\">learning about Python', the topic is not correct. The user is expressing interest in Python, not JavaScript.\"</span>\n",
       "<span style=\"font-weight: bold\">)</span>\n",
       "</pre>\n"
      ],
      "text/plain": [
       "\u001b[1;35mValidationResult\u001b[0m\u001b[1m(\u001b[0m\n",
       "    \u001b[33mis_valid\u001b[0m=\u001b[3;91mFalse\u001b[0m,\n",
       "    \u001b[33mexplanation\u001b[0m=\u001b[32m\"The\u001b[0m\u001b[32m object has a topic of 'JavaScript', but based on the user message 'I want to get started \u001b[0m\n",
       "\u001b[32mlearning about Python', the topic is not correct. The user is expressing interest in Python, not JavaScript.\"\u001b[0m\n",
       "\u001b[1m)\u001b[0m\n"
      ]
     },
     "metadata": {},
     "output_type": "display_data"
    },
    {
     "data": {
      "application/vnd.jupyter.widget-view+json": {
       "model_id": "0702318adf2143b0ac5a2bb8a5444c79",
       "version_major": 2,
       "version_minor": 0
      },
      "text/plain": [
       "Output()"
      ]
     },
     "metadata": {},
     "output_type": "display_data"
    },
    {
     "data": {
      "text/html": [
       "<pre style=\"white-space:pre;overflow-x:auto;line-height:normal;font-family:Menlo,'DejaVu Sans Mono',consolas,'Courier New',monospace\"></pre>\n"
      ],
      "text/plain": []
     },
     "metadata": {},
     "output_type": "display_data"
    },
    {
     "data": {
      "application/vnd.jupyter.widget-view+json": {
       "model_id": "486bb07e288943f0a5f7dbd26c0d1e59",
       "version_major": 2,
       "version_minor": 0
      },
      "text/plain": [
       "Output()"
      ]
     },
     "metadata": {},
     "output_type": "display_data"
    },
    {
     "data": {
      "text/html": [
       "<pre style=\"white-space:pre;overflow-x:auto;line-height:normal;font-family:Menlo,'DejaVu Sans Mono',consolas,'Courier New',monospace\"></pre>\n"
      ],
      "text/plain": []
     },
     "metadata": {},
     "output_type": "display_data"
    },
    {
     "data": {
      "text/html": [
       "<pre style=\"white-space:pre;overflow-x:auto;line-height:normal;font-family:Menlo,'DejaVu Sans Mono',consolas,'Courier New',monospace\"><span style=\"color: #800080; text-decoration-color: #800080; font-weight: bold\">CurrentLearningTopic</span><span style=\"font-weight: bold\">(</span><span style=\"color: #808000; text-decoration-color: #808000\">topic</span>=<span style=\"color: #008000; text-decoration-color: #008000\">'Python'</span><span style=\"font-weight: bold\">)</span>\n",
       "</pre>\n"
      ],
      "text/plain": [
       "\u001b[1;35mCurrentLearningTopic\u001b[0m\u001b[1m(\u001b[0m\u001b[33mtopic\u001b[0m=\u001b[32m'Python'\u001b[0m\u001b[1m)\u001b[0m\n"
      ]
     },
     "metadata": {},
     "output_type": "display_data"
    }
   ],
   "source": [
    "from zyx import Completions, BaseModel\n",
    "\n",
    "agents = Completions().agents()\n",
    "\n",
    "# lets create an educator agent\n",
    "educator = agents.add(\n",
    "    role = \"Educator\",\n",
    ")\n",
    "\n",
    "# lets create a simple object\n",
    "class CurrentLearningTopic(BaseModel):\n",
    "    topic : str\n",
    "\n",
    "# we'll instantiate it with a random topic\n",
    "object = CurrentLearningTopic(topic = \"JavaScript\")\n",
    "\n",
    "# lets create a user message\n",
    "user_message = \"I want to get started learning about Python\"\n",
    "\n",
    "# agents provides the ability to make 'edits' and work with pydantic models\n",
    "# using the .task() method\n",
    "# we can create a rich workflow using this object\n",
    "with agents.task(object) as task:\n",
    "\n",
    "    # lets verify if the topic is correct\n",
    "    validation = task.validate(\n",
    "        \"is the topic correct?, based on this user message: \" + user_message,\n",
    "        process = \"validate\"\n",
    "    )\n",
    "    \n",
    "    print(validation)\n",
    "\n",
    "    if not validation.is_valid:\n",
    "\n",
    "        # we can edit the object\n",
    "        object = task.patch(\n",
    "            \"Update the object based on the user message.\" + user_message,\n",
    "        )\n",
    "\n",
    "    # now we can validate again\n",
    "    validation = task.validate(\n",
    "        \"is the topic correct?, based on this user message: \" + user_message,\n",
    "        process = \"validate\"\n",
    "    )\n",
    "\n",
    "\n",
    "print(object)"
   ]
  }
 ],
 "metadata": {
  "kernelspec": {
   "display_name": ".venv",
   "language": "python",
   "name": "python3"
  },
  "language_info": {
   "codemirror_mode": {
    "name": "ipython",
    "version": 3
   },
   "file_extension": ".py",
   "mimetype": "text/x-python",
   "name": "python",
   "nbconvert_exporter": "python",
   "pygments_lexer": "ipython3",
   "version": "3.11.10"
  }
 },
 "nbformat": 4,
 "nbformat_minor": 2
}
