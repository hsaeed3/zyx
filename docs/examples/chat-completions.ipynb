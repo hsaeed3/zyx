{
 "cells": [
  {
   "cell_type": "markdown",
   "metadata": {},
   "source": [
    "# **Chat Completions**\n",
    "\n",
    "Creating chat completions in `zyx` is incredibly simple. The completion module builds in **`Instructor` structured outputs**, automatic **tool execution**, **tool generation** & more.\n",
    "\n",
    "This example will cover the basics on creating simple chat completions using the `completion` function in `zyx`."
   ]
  },
  {
   "cell_type": "markdown",
   "metadata": {},
   "source": [
    "## **Standard Chat Completions**\n",
    "\n",
    "The `completion` function is built with ease of use in mind, there are two ways to use this function."
   ]
  },
  {
   "cell_type": "markdown",
   "metadata": {},
   "source": [
    "#### Chat Completion using `zyx.completion()`"
   ]
  },
  {
   "cell_type": "code",
   "execution_count": 1,
   "metadata": {},
   "outputs": [],
   "source": [
    "# Chat Completion using `zyx.completion()`"
   ]
  },
  {
   "cell_type": "markdown",
   "metadata": {},
   "source": [
    "#### Chat Completion using `zyx.Completions` Client\n",
    "\n",
    "Although the completion function is much faster to get running (by a line... lol..), the `Completions` client integrates all of the **Magic Methods** in the `zyx` library as well as `zyx`'s **Agentic Framework**! Furthermore, another benefit of using the client is that only one object will be instantiated."
   ]
  },
  {
   "cell_type": "code",
   "execution_count": 2,
   "metadata": {},
   "outputs": [],
   "source": [
    "# Chat Completion using `zyx.Completions` Client"
   ]
  },
  {
   "cell_type": "markdown",
   "metadata": {},
   "source": [
    "---\n",
    "\n",
    "### Use Any LiteLLM Model\n",
    "\n",
    "`zyx` is built on top of [LiteLLM](https://github.com/BerriAI/litellm) & every llm function or module in the library supports any model that is supported by LiteLLM"
   ]
  },
  {
   "cell_type": "code",
   "execution_count": 3,
   "metadata": {},
   "outputs": [],
   "source": [
    "# Use Any LiteLLM Model"
   ]
  },
  {
   "cell_type": "markdown",
   "metadata": {},
   "source": [
    "<br/>\n",
    "\n",
    "---\n",
    "\n",
    "## **Creating Chat Completions with Structured Outputs**\n",
    "\n",
    "A big part in the functionality `zyx` is able to provide is the ability to create chat completions with **structured outputs**. This is done using the `Instructor` framework which allows you to specify the types of the responses from the LLM.\n",
    "\n",
    "The `completion()` function supports the instructor named `response_model` parameter for generating structured outputs. Furthermore, the client also allows for passing of generic types to the `response_model` parameter, such as `str`, `int`, `float`, `bool`, `list`; for easier 'one-off' completions."
   ]
  },
  {
   "cell_type": "markdown",
   "metadata": {},
   "source": [
    "### Instructor Structured Outputs\n",
    "\n",
    "Utilizing the `response_model` parameter is the same as it is in the `Instructor` library; so getting the hang of it should be instant if you are familiar with `Pydantic`."
   ]
  },
  {
   "cell_type": "code",
   "execution_count": null,
   "metadata": {},
   "outputs": [],
   "source": [
    "# Pydantic Structured Outputs w/ Instructor"
   ]
  },
  {
   "cell_type": "markdown",
   "metadata": {},
   "source": [
    "#### Changing the `Instructor` Mode\n",
    "\n",
    "The `Mode` parameter in the `Instructor` library is an incredibly powerful feature that completely changed the generation behavior of the completion request. This approach allows for the best method to be utilized based on the model available.\n",
    "\n",
    "All `Instructor` mode's are available as literal strings in the `mode` parameter when generating completions."
   ]
  },
  {
   "cell_type": "code",
   "execution_count": null,
   "metadata": {},
   "outputs": [],
   "source": [
    "# Changing the `Instructor` Mode"
   ]
  },
  {
   "cell_type": "markdown",
   "metadata": {},
   "source": [
    "### Structured Outputs with Generic Types\n",
    "\n",
    "To use a generic type as a response model, you can simply pass the type as a parameter to the `response_model` parameter."
   ]
  },
  {
   "cell_type": "markdown",
   "metadata": {},
   "source": [
    "#### Generating a `str` Type\n",
    "\n",
    "Using the `str` type is useful if you want to return the text content from the chat completion directly & quickly."
   ]
  },
  {
   "cell_type": "code",
   "execution_count": 4,
   "metadata": {},
   "outputs": [],
   "source": [
    "# Generating a `str` Type"
   ]
  },
  {
   "cell_type": "markdown",
   "metadata": {},
   "source": [
    "#### Example II - Generating a `list` Type"
   ]
  },
  {
   "cell_type": "code",
   "execution_count": 5,
   "metadata": {},
   "outputs": [],
   "source": [
    "# Generating a `list` Type"
   ]
  },
  {
   "cell_type": "markdown",
   "metadata": {},
   "source": [
    "---\n",
    "\n",
    "<br/>\n",
    "\n",
    "## **Using Tools**\n",
    "\n",
    "Tool calling in `zyx` is very robust, and tools can now be passed as:\n",
    "\n",
    "- `str` (New in `zyx` 1.1.0) - Generates a tool function based on the string name.\n",
    "- `Callable` - Any python function\n",
    "- `Pydantic Model` - A `Pydantic` model that will be used to generate the tool call.\n",
    "- `OpenAI Tool/Function` - A preformatted OpenAI tool or function that will be used to generate the tool call.\n",
    "\n",
    "Furthermore, the `completion` function builds in a `run_tools` parameter; which allows for automatic execution of tools (if applicable functions can be executed)."
   ]
  },
  {
   "cell_type": "markdown",
   "metadata": {},
   "source": [
    "### Automatic Tool Execution\n",
    "\n",
    "The `run_tools` parameter is set to `True` by default, which will automatically execute any tools that are called in the completion."
   ]
  },
  {
   "cell_type": "code",
   "execution_count": 6,
   "metadata": {},
   "outputs": [],
   "source": [
    "# Automatic Tool Execution"
   ]
  },
  {
   "cell_type": "markdown",
   "metadata": {},
   "source": [
    "### Generating Tools\n",
    "\n",
    "This is a new feature in `zyx` 1.1.0, where tools can be generated from a string name. This parameter utilizes the `coder()` module in the library, which uses LLMs to safely generate a python function representing the tool in a sandbox; then execute it."
   ]
  },
  {
   "cell_type": "code",
   "execution_count": 7,
   "metadata": {},
   "outputs": [],
   "source": [
    "# Generating Tools"
   ]
  }
 ],
 "metadata": {
  "kernelspec": {
   "display_name": ".venv",
   "language": "python",
   "name": "python3"
  },
  "language_info": {
   "codemirror_mode": {
    "name": "ipython",
    "version": 3
   },
   "file_extension": ".py",
   "mimetype": "text/x-python",
   "name": "python",
   "nbconvert_exporter": "python",
   "pygments_lexer": "ipython3",
   "version": "3.11.10"
  }
 },
 "nbformat": 4,
 "nbformat_minor": 2
}
