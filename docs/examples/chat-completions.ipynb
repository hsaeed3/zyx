{
 "cells": [
  {
   "cell_type": "markdown",
   "metadata": {},
   "source": [
    "# **Chat Completions**\n",
    "\n",
    "Creating chat completions in `zyx` is incredibly simple. The completion module builds in **`Instructor` structured outputs**, automatic **tool execution**, **tool generation** & more.\n",
    "\n",
    "This example will cover the basics on creating simple chat completions using the `completion` function in `zyx`."
   ]
  },
  {
   "cell_type": "markdown",
   "metadata": {},
   "source": [
    "## **Standard Chat Completions**\n",
    "\n",
    "The `completion` function is built with ease of use in mind, there are two ways to use this function."
   ]
  },
  {
   "cell_type": "markdown",
   "metadata": {},
   "source": [
    "#### Chat Completion using `zyx.completion()`"
   ]
  },
  {
   "cell_type": "code",
   "execution_count": 5,
   "metadata": {},
   "outputs": [
    {
     "data": {
      "text/plain": [
       "ChatCompletion(id='chatcmpl-AOB9aqrubLWMmWziAjFQchlgpY649', choices=[Choice(finish_reason='stop', index=0, logprobs=None, message=ChatCompletionMessage(content='Hello! How can I assist you today?', refusal=None, role='assistant', audio=None, function_call=None, tool_calls=None))], created=1730326110, model='gpt-4o-mini-2024-07-18', object='chat.completion', service_tier=None, system_fingerprint='fp_f59a81427f', usage=CompletionUsage(completion_tokens=9, prompt_tokens=8, total_tokens=17, completion_tokens_details=CompletionTokensDetails(audio_tokens=None, reasoning_tokens=0), prompt_tokens_details=PromptTokensDetails(audio_tokens=None, cached_tokens=0)))"
      ]
     },
     "execution_count": 5,
     "metadata": {},
     "output_type": "execute_result"
    }
   ],
   "source": [
    "# Chat Completion using `zyx.completion()`\n",
    "import zyx as z\n",
    "\n",
    "z.completion(\"hi\")"
   ]
  },
  {
   "cell_type": "markdown",
   "metadata": {},
   "source": [
    "#### Extended Example"
   ]
  },
  {
   "cell_type": "code",
   "execution_count": 4,
   "metadata": {},
   "outputs": [
    {
     "data": {
      "text/html": [
       "<pre style=\"white-space:pre;overflow-x:auto;line-height:normal;font-family:Menlo,'DejaVu Sans Mono',consolas,'Courier New',monospace\">Hi! How can I help you today?\n",
       "</pre>\n"
      ],
      "text/plain": [
       "Hi! How can I help you today?\n"
      ]
     },
     "metadata": {},
     "output_type": "display_data"
    }
   ],
   "source": [
    "import zyx as z\n",
    "\n",
    "response = z.completion(\n",
    "    # messages can be a string, or a list of dictionaries\n",
    "    messages = [\n",
    "        {\"role\" : \"system\", \"content\" : \"You only speak in riddles\"},\n",
    "        {\"role\" : \"user\", \"content\" : \"hello\"}\n",
    "    ],\n",
    "    # supports any litellm model\n",
    "    model = \"anthropic/claude-3-5-sonnet-latest\",\n",
    "\n",
    "    #   structured outputs\n",
    "    # response_model = SomeBaseModel,\n",
    "\n",
    "    #   tool calling & auto execution\n",
    "    # tools = [tool_1, tool_2],\n",
    "    # run_tools = True,\n",
    "\n",
    "    #   supports all standard chat completion arguments\n",
    "    # max_tokens = 100,\n",
    "    # temperature = 0.0,\n",
    "    # stream = True\n",
    ")\n",
    "\n",
    "# the result is a standard `ChatCompletion` object\n",
    "print(response.choices[0].message.content)"
   ]
  },
  {
   "cell_type": "markdown",
   "metadata": {},
   "source": [
    "#### Chat Completion using `zyx.Completions` Client\n",
    "\n",
    "Although the completion function is much faster to get running (by a line... lol..), the `Completions` client integrates all of the **Magic Methods** in the `zyx` library as well as `zyx`'s **Agentic Framework**! Furthermore, another benefit of using the client is that only one object will be instantiated."
   ]
  },
  {
   "cell_type": "code",
   "execution_count": 6,
   "metadata": {},
   "outputs": [
    {
     "data": {
      "text/html": [
       "<pre style=\"white-space:pre;overflow-x:auto;line-height:normal;font-family:Menlo,'DejaVu Sans Mono',consolas,'Courier New',monospace\">The capital of France is Paris.\n",
       "</pre>\n"
      ],
      "text/plain": [
       "The capital of France is Paris.\n"
      ]
     },
     "metadata": {},
     "output_type": "display_data"
    }
   ],
   "source": [
    "# Chat Completion using `zyx.Completions` Client\n",
    "from zyx import Completions\n",
    "\n",
    "# or\n",
    "# import zyx as z\n",
    "# z.Completions()\n",
    "\n",
    "client = Completions()\n",
    "\n",
    "# get the response\n",
    "response = client.completion(\"what is the capital of france?\", model = \"gpt-4o-mini\")\n",
    "\n",
    "# print the content\n",
    "print(response.choices[0].message.content)"
   ]
  },
  {
   "cell_type": "markdown",
   "metadata": {},
   "source": [
    "<br/>\n",
    "\n",
    "---\n",
    "\n",
    "## **Creating Chat Completions with Structured Outputs**\n",
    "\n",
    "A big part in the functionality `zyx` is able to provide is the ability to create chat completions with **structured outputs**. This is done using the `Instructor` framework which allows you to specify the types of the responses from the LLM.\n",
    "\n",
    "The `completion()` function supports the instructor named `response_model` parameter for generating structured outputs. Furthermore, the client also allows for passing of generic types to the `response_model` parameter, such as `str`, `int`, `float`, `bool`, `list`; for easier 'one-off' completions."
   ]
  },
  {
   "cell_type": "markdown",
   "metadata": {},
   "source": [
    "### Instructor Structured Outputs\n",
    "\n",
    "Utilizing the `response_model` parameter is the same as it is in the `Instructor` library; so getting the hang of it should be instant if you are familiar with `Pydantic`."
   ]
  },
  {
   "cell_type": "code",
   "execution_count": 7,
   "metadata": {},
   "outputs": [
    {
     "data": {
      "text/html": [
       "<pre style=\"white-space:pre;overflow-x:auto;line-height:normal;font-family:Menlo,'DejaVu Sans Mono',consolas,'Courier New',monospace\"><span style=\"color: #800080; text-decoration-color: #800080; font-weight: bold\">Plan</span><span style=\"font-weight: bold\">(</span>\n",
       "    <span style=\"color: #808000; text-decoration-color: #808000\">steps</span>=<span style=\"font-weight: bold\">[</span>\n",
       "        <span style=\"color: #008000; text-decoration-color: #008000\">'Determine the budget for the house construction.'</span>,\n",
       "        <span style=\"color: #008000; text-decoration-color: #008000\">'Select a suitable location for the house.'</span>,\n",
       "        <span style=\"color: #008000; text-decoration-color: #008000\">'Create a design or blueprint for the house.'</span>,\n",
       "        <span style=\"color: #008000; text-decoration-color: #008000\">'Obtain the necessary permits and approvals.'</span>,\n",
       "        <span style=\"color: #008000; text-decoration-color: #008000\">'Hire a contractor or construction team.'</span>,\n",
       "        <span style=\"color: #008000; text-decoration-color: #008000\">'Purchase materials for construction.'</span>,\n",
       "        <span style=\"color: #008000; text-decoration-color: #008000\">'Begin site preparation and foundation work.'</span>,\n",
       "        <span style=\"color: #008000; text-decoration-color: #008000\">'Construct the frame of the house.'</span>,\n",
       "        <span style=\"color: #008000; text-decoration-color: #008000\">'Install roofing and siding.'</span>,\n",
       "        <span style=\"color: #008000; text-decoration-color: #008000\">'Add plumbing, electrical, and HVAC systems.'</span>,\n",
       "        <span style=\"color: #008000; text-decoration-color: #008000\">'Complete interior finishes (walls, flooring, etc.).'</span>,\n",
       "        <span style=\"color: #008000; text-decoration-color: #008000\">'Landscape the exterior and complete any outdoor features.'</span>,\n",
       "        <span style=\"color: #008000; text-decoration-color: #008000\">'Conduct a final inspection and obtain a certificate of occupancy.'</span>\n",
       "    <span style=\"font-weight: bold\">]</span>\n",
       "<span style=\"font-weight: bold\">)</span>\n",
       "</pre>\n"
      ],
      "text/plain": [
       "\u001b[1;35mPlan\u001b[0m\u001b[1m(\u001b[0m\n",
       "    \u001b[33msteps\u001b[0m=\u001b[1m[\u001b[0m\n",
       "        \u001b[32m'Determine the budget for the house construction.'\u001b[0m,\n",
       "        \u001b[32m'Select a suitable location for the house.'\u001b[0m,\n",
       "        \u001b[32m'Create a design or blueprint for the house.'\u001b[0m,\n",
       "        \u001b[32m'Obtain the necessary permits and approvals.'\u001b[0m,\n",
       "        \u001b[32m'Hire a contractor or construction team.'\u001b[0m,\n",
       "        \u001b[32m'Purchase materials for construction.'\u001b[0m,\n",
       "        \u001b[32m'Begin site preparation and foundation work.'\u001b[0m,\n",
       "        \u001b[32m'Construct the frame of the house.'\u001b[0m,\n",
       "        \u001b[32m'Install roofing and siding.'\u001b[0m,\n",
       "        \u001b[32m'Add plumbing, electrical, and HVAC systems.'\u001b[0m,\n",
       "        \u001b[32m'Complete interior finishes \u001b[0m\u001b[32m(\u001b[0m\u001b[32mwalls, flooring, etc.\u001b[0m\u001b[32m)\u001b[0m\u001b[32m.'\u001b[0m,\n",
       "        \u001b[32m'Landscape the exterior and complete any outdoor features.'\u001b[0m,\n",
       "        \u001b[32m'Conduct a final inspection and obtain a certificate of occupancy.'\u001b[0m\n",
       "    \u001b[1m]\u001b[0m\n",
       "\u001b[1m)\u001b[0m\n"
      ]
     },
     "metadata": {},
     "output_type": "display_data"
    }
   ],
   "source": [
    "# Pydantic Structured Outputs w/ Instructor\n",
    "from zyx import completion\n",
    "from pydantic import BaseModel\n",
    "\n",
    "# create a pydantic model\n",
    "class Plan(BaseModel):\n",
    "    steps : list[str]\n",
    "\n",
    "# get the completion\n",
    "plan = completion(\n",
    "    messages = [\n",
    "        {\"role\" : \"user\", \"content\" : \"create a plan to build a house\"}\n",
    "    ],\n",
    "    response_model = Plan\n",
    ")\n",
    "\n",
    "print(plan)"
   ]
  },
  {
   "cell_type": "markdown",
   "metadata": {},
   "source": [
    "#### Changing the `Instructor` Mode\n",
    "\n",
    "The `Mode` parameter in the `Instructor` library is an incredibly powerful feature that completely changed the generation behavior of the completion request. This approach allows for the best method to be utilized based on the model available. By default the client will use the `Instructor` default \"tool_call\" mode.\n",
    "\n",
    "All `Instructor` mode's are available as literal strings in the `mode` parameter when generating completions."
   ]
  },
  {
   "cell_type": "code",
   "execution_count": 8,
   "metadata": {},
   "outputs": [
    {
     "data": {
      "text/html": [
       "<pre style=\"white-space:pre;overflow-x:auto;line-height:normal;font-family:Menlo,'DejaVu Sans Mono',consolas,'Courier New',monospace\"><span style=\"color: #800080; text-decoration-color: #800080; font-weight: bold\">Plan</span><span style=\"font-weight: bold\">(</span>\n",
       "    <span style=\"color: #808000; text-decoration-color: #808000\">steps</span>=<span style=\"font-weight: bold\">[</span>\n",
       "        <span style=\"color: #008000; text-decoration-color: #008000\">'Define budget and financing options'</span>,\n",
       "        <span style=\"color: #008000; text-decoration-color: #008000\">'Choose a location for the building site'</span>,\n",
       "        <span style=\"color: #008000; text-decoration-color: #008000\">'Acquire necessary permits and approvals'</span>,\n",
       "        <span style=\"color: #008000; text-decoration-color: #008000\">'Design the house layout and floor plan'</span>,\n",
       "        <span style=\"color: #008000; text-decoration-color: #008000\">'Select materials and finishes'</span>,\n",
       "        <span style=\"color: #008000; text-decoration-color: #008000\">'Hire a contractor or builder'</span>,\n",
       "        <span style=\"color: #008000; text-decoration-color: #008000\">'Prepare the site and lay the foundation'</span>,\n",
       "        <span style=\"color: #008000; text-decoration-color: #008000\">'Construct the frame of the house'</span>,\n",
       "        <span style=\"color: #008000; text-decoration-color: #008000\">'Install roofing, windows, and doors'</span>,\n",
       "        <span style=\"color: #008000; text-decoration-color: #008000\">'Run electrical and plumbing systems'</span>,\n",
       "        <span style=\"color: #008000; text-decoration-color: #008000\">'Insulate the house'</span>,\n",
       "        <span style=\"color: #008000; text-decoration-color: #008000\">'Complete interior finishes (drywall, flooring, etc.)'</span>,\n",
       "        <span style=\"color: #008000; text-decoration-color: #008000\">'Paint and decorate the interior'</span>,\n",
       "        <span style=\"color: #008000; text-decoration-color: #008000\">'Landscaping and exterior finishing'</span>,\n",
       "        <span style=\"color: #008000; text-decoration-color: #008000\">'Final inspections and move-in preparations'</span>\n",
       "    <span style=\"font-weight: bold\">]</span>\n",
       "<span style=\"font-weight: bold\">)</span>\n",
       "</pre>\n"
      ],
      "text/plain": [
       "\u001b[1;35mPlan\u001b[0m\u001b[1m(\u001b[0m\n",
       "    \u001b[33msteps\u001b[0m=\u001b[1m[\u001b[0m\n",
       "        \u001b[32m'Define budget and financing options'\u001b[0m,\n",
       "        \u001b[32m'Choose a location for the building site'\u001b[0m,\n",
       "        \u001b[32m'Acquire necessary permits and approvals'\u001b[0m,\n",
       "        \u001b[32m'Design the house layout and floor plan'\u001b[0m,\n",
       "        \u001b[32m'Select materials and finishes'\u001b[0m,\n",
       "        \u001b[32m'Hire a contractor or builder'\u001b[0m,\n",
       "        \u001b[32m'Prepare the site and lay the foundation'\u001b[0m,\n",
       "        \u001b[32m'Construct the frame of the house'\u001b[0m,\n",
       "        \u001b[32m'Install roofing, windows, and doors'\u001b[0m,\n",
       "        \u001b[32m'Run electrical and plumbing systems'\u001b[0m,\n",
       "        \u001b[32m'Insulate the house'\u001b[0m,\n",
       "        \u001b[32m'Complete interior finishes \u001b[0m\u001b[32m(\u001b[0m\u001b[32mdrywall, flooring, etc.\u001b[0m\u001b[32m)\u001b[0m\u001b[32m'\u001b[0m,\n",
       "        \u001b[32m'Paint and decorate the interior'\u001b[0m,\n",
       "        \u001b[32m'Landscaping and exterior finishing'\u001b[0m,\n",
       "        \u001b[32m'Final inspections and move-in preparations'\u001b[0m\n",
       "    \u001b[1m]\u001b[0m\n",
       "\u001b[1m)\u001b[0m\n"
      ]
     },
     "metadata": {},
     "output_type": "display_data"
    }
   ],
   "source": [
    "# Changing the `Instructor` Mode\n",
    "# Pydantic Structured Outputs w/ Instructor\n",
    "from zyx import completion\n",
    "from pydantic import BaseModel\n",
    "\n",
    "# create a pydantic model\n",
    "class Plan(BaseModel):\n",
    "    steps : list[str]\n",
    "\n",
    "# get the completion\n",
    "plan = completion(\n",
    "    messages = [\n",
    "        {\"role\" : \"user\", \"content\" : \"create a plan to build a house\"}\n",
    "    ],\n",
    "    response_model = Plan,\n",
    "    mode = \"markdown_json_mode\"\n",
    ")\n",
    "\n",
    "print(plan)"
   ]
  },
  {
   "cell_type": "markdown",
   "metadata": {},
   "source": [
    "### Structured Outputs with Generic Types\n",
    "\n",
    "To use a generic type as a response model, you can simply pass the type as a parameter to the `response_model` parameter."
   ]
  },
  {
   "cell_type": "markdown",
   "metadata": {},
   "source": [
    "#### Generating a `str` Type\n",
    "\n",
    "Using the `str` type is useful if you want to return the text content from the chat completion directly & quickly."
   ]
  },
  {
   "cell_type": "code",
   "execution_count": 1,
   "metadata": {},
   "outputs": [
    {
     "data": {
      "text/html": [
       "<pre style=\"white-space:pre;overflow-x:auto;line-height:normal;font-family:Menlo,'DejaVu Sans Mono',consolas,'Courier New',monospace\">The capital of France is Paris.\n",
       "</pre>\n"
      ],
      "text/plain": [
       "The capital of France is Paris.\n"
      ]
     },
     "metadata": {},
     "output_type": "display_data"
    }
   ],
   "source": [
    "# Generating a `str` Type\n",
    "from zyx import completion\n",
    "\n",
    "response = completion(\n",
    "    messages = [\n",
    "        {\"role\" : \"user\", \"content\" : \"what is the capital of france?\"}\n",
    "    ],\n",
    "    response_model = str\n",
    ")\n",
    "\n",
    "print(response)"
   ]
  },
  {
   "cell_type": "markdown",
   "metadata": {},
   "source": [
    "#### Example II - Generating a `list` Type"
   ]
  },
  {
   "cell_type": "code",
   "execution_count": 3,
   "metadata": {},
   "outputs": [
    {
     "data": {
      "text/html": [
       "<pre style=\"white-space:pre;overflow-x:auto;line-height:normal;font-family:Menlo,'DejaVu Sans Mono',consolas,'Courier New',monospace\"><span style=\"color: #008080; text-decoration-color: #008080; font-weight: bold\">2</span>\n",
       "</pre>\n"
      ],
      "text/plain": [
       "\u001b[1;36m2\u001b[0m\n"
      ]
     },
     "metadata": {},
     "output_type": "display_data"
    }
   ],
   "source": [
    "# Generating a `list` Type\n",
    "import zyx as z\n",
    "\n",
    "response = z.completion(\n",
    "    messages = [\n",
    "        {\"role\" : \"user\", \"content\" : \"Select the correct answer for this question: 1 + 1 = ? Answers : 1) 1, 2) 2, 3) 3, 4) 4\"}\n",
    "    ],\n",
    "    response_model = int\n",
    ")\n",
    "\n",
    "print(response)"
   ]
  },
  {
   "cell_type": "markdown",
   "metadata": {},
   "source": [
    "---\n",
    "\n",
    "<br/>\n",
    "\n",
    "## **Using Tools**\n",
    "\n",
    "Tool calling in `zyx` is very robust, and tools can now be passed as:\n",
    "\n",
    "- `str` (New in `zyx` 1.1.0) - Generates a tool function based on the string name.\n",
    "- `Callable` - Any python function\n",
    "- `Pydantic Model` - A `Pydantic` model that will be used to generate the tool call.\n",
    "- `OpenAI Tool/Function` - A preformatted OpenAI tool or function that will be used to generate the tool call.\n",
    "\n",
    "Furthermore, the `completion` function builds in a `run_tools` parameter; which allows for automatic execution of tools (if applicable functions can be executed)."
   ]
  },
  {
   "cell_type": "markdown",
   "metadata": {},
   "source": [
    "### Automatic Tool Execution\n",
    "\n",
    "The `run_tools` parameter is set to `True` by default, which will automatically execute any tools that are called in the completion."
   ]
  },
  {
   "cell_type": "code",
   "execution_count": 5,
   "metadata": {},
   "outputs": [
    {
     "data": {
      "text/html": [
       "<pre style=\"white-space:pre;overflow-x:auto;line-height:normal;font-family:Menlo,'DejaVu Sans Mono',consolas,'Courier New',monospace\">Doing some heavy computation for <span style=\"color: #008080; text-decoration-color: #008080; font-weight: bold\">324949439</span><span style=\"color: #808000; text-decoration-color: #808000\">...</span>\n",
       "</pre>\n"
      ],
      "text/plain": [
       "Doing some heavy computation for \u001b[1;36m324949439\u001b[0m\u001b[33m...\u001b[0m\n"
      ]
     },
     "metadata": {},
     "output_type": "display_data"
    },
    {
     "data": {
      "text/html": [
       "<pre style=\"white-space:pre;overflow-x:auto;line-height:normal;font-family:Menlo,'DejaVu Sans Mono',consolas,'Courier New',monospace\">The square root of <span style=\"color: #008080; text-decoration-color: #008080; font-weight: bold\">324949439</span> is approximately <span style=\"color: #008080; text-decoration-color: #008080; font-weight: bold\">18026.35</span>.\n",
       "</pre>\n"
      ],
      "text/plain": [
       "The square root of \u001b[1;36m324949439\u001b[0m is approximately \u001b[1;36m18026.35\u001b[0m.\n"
      ]
     },
     "metadata": {},
     "output_type": "display_data"
    }
   ],
   "source": [
    "# Automatic Tool Execution\n",
    "import math\n",
    "\n",
    "# create a tool\n",
    "# a tool can be any python function\n",
    "# you dont need to add a decorator or anything thats dumb\n",
    "# if your tool is simple, it doesnt need a docstring either, the LLM can figure it out\n",
    "def get_sqrt(x : int) -> int:\n",
    "    print(f\"Doing some heavy computation for {x}...\")\n",
    "    return math.sqrt(x)\n",
    "\n",
    "# run the completion\n",
    "response = completion(\n",
    "    messages = [\n",
    "        {\"role\" : \"user\", \"content\" : \"what is the square root of 324949439?\"}\n",
    "    ],\n",
    "    tools = [get_sqrt],\n",
    "    # This is default to true\n",
    "    run_tools = True\n",
    ")\n",
    "\n",
    "print(response.choices[0].message.content)"
   ]
  },
  {
   "cell_type": "markdown",
   "metadata": {},
   "source": [
    "### Generating Tools\n",
    "\n",
    "This is a new feature in `zyx` 1.1.0, where tools can be generated from a string name. This parameter utilizes the `coder()` module in the library, which uses LLMs to safely generate a python function representing the tool in a sandbox; then execute it."
   ]
  },
  {
   "cell_type": "code",
   "execution_count": 1,
   "metadata": {},
   "outputs": [
    {
     "data": {
      "text/html": [
       "<pre style=\"white-space:pre;overflow-x:auto;line-height:normal;font-family:Menlo,'DejaVu Sans Mono',consolas,'Courier New',monospace\">You are on macOS <span style=\"font-weight: bold\">(</span>Darwin<span style=\"font-weight: bold\">)</span> with a kernel version of <span style=\"color: #008080; text-decoration-color: #008080; font-weight: bold\">23.6</span>.<span style=\"color: #008080; text-decoration-color: #008080; font-weight: bold\">0</span>.\n",
       "</pre>\n"
      ],
      "text/plain": [
       "You are on macOS \u001b[1m(\u001b[0mDarwin\u001b[1m)\u001b[0m with a kernel version of \u001b[1;36m23.6\u001b[0m.\u001b[1;36m0\u001b[0m.\n"
      ]
     },
     "metadata": {},
     "output_type": "display_data"
    }
   ],
   "source": [
    "# Generating Tools\n",
    "from zyx import completion\n",
    "\n",
    "response = completion(\n",
    "    messages = [\n",
    "        {\"role\" : \"user\", \"content\" : \"What OS am i on?\"}\n",
    "    ],\n",
    "    tools = [\"run_cli_command\"]\n",
    ")\n",
    "\n",
    "print(response.choices[0].message.content)"
   ]
  }
 ],
 "metadata": {
  "kernelspec": {
   "display_name": ".venv",
   "language": "python",
   "name": "python3"
  },
  "language_info": {
   "codemirror_mode": {
    "name": "ipython",
    "version": 3
   },
   "file_extension": ".py",
   "mimetype": "text/x-python",
   "name": "python",
   "nbconvert_exporter": "python",
   "pygments_lexer": "ipython3",
   "version": "3.11.10"
  }
 },
 "nbformat": 4,
 "nbformat_minor": 2
}
