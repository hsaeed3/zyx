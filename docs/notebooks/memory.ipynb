{
 "cells": [
  {
   "cell_type": "markdown",
   "metadata": {},
   "source": [
    "# **Memory (RAG)**\n",
    "\n",
    "The <samp>zyx</samp> library brings an easier way to interact with vector databases & implement RAG pipelines. Using the <code>Qdrant-Client</code> library, we can easily store and query data. The <code>completion</code> client has also been built into the Memory module to allow for LLM (RAG) completions."
   ]
  },
  {
   "cell_type": "markdown",
   "metadata": {},
   "source": [
    "## **Creating a Store**\n",
    "\n",
    "Lets create two <code>Qdrant</code> collections to store and query data. The first one will hold string 'documents', the second will showcase the Pydantic store functionality."
   ]
  },
  {
   "cell_type": "code",
   "execution_count": 1,
   "metadata": {},
   "outputs": [
    {
     "name": "stderr",
     "output_type": "stream",
     "text": [
      "\u001b[32m2024-09-08 00:33:13.825\u001b[0m | \u001b[1mINFO    \u001b[0m | \u001b[36mzyx._client.memory\u001b[0m:\u001b[36m_create_collection\u001b[0m:\u001b[36m73\u001b[0m - \u001b[1mCollection 'base_store' does not exist. Creating it now.\u001b[0m\n",
      "\u001b[32m2024-09-08 00:33:13.826\u001b[0m | \u001b[1mINFO    \u001b[0m | \u001b[36mzyx._client.memory\u001b[0m:\u001b[36m_create_collection\u001b[0m:\u001b[36m82\u001b[0m - \u001b[1mCollection 'base_store' created successfully.\u001b[0m\n",
      "\u001b[32m2024-09-08 00:33:13.827\u001b[0m | \u001b[1mINFO    \u001b[0m | \u001b[36mzyx._client.memory\u001b[0m:\u001b[36m_create_collection\u001b[0m:\u001b[36m73\u001b[0m - \u001b[1mCollection 'pydantic_store' does not exist. Creating it now.\u001b[0m\n",
      "\u001b[32m2024-09-08 00:33:13.827\u001b[0m | \u001b[1mINFO    \u001b[0m | \u001b[36mzyx._client.memory\u001b[0m:\u001b[36m_create_collection\u001b[0m:\u001b[36m82\u001b[0m - \u001b[1mCollection 'pydantic_store' created successfully.\u001b[0m\n"
     ]
    }
   ],
   "source": [
    "import zyx\n",
    "from pydantic import BaseModel\n",
    "\n",
    "\n",
    "class Data(BaseModel):\n",
    "    memory: str\n",
    "    date: str\n",
    "\n",
    "\n",
    "base_store = zyx.Memory(\n",
    "    \"base_store\",\n",
    "    location=\":memory:\",\n",
    "    embedding_model=\"text-embedding-3-small\",  # Defualt embedding model, can be changed to litellm compatible\n",
    "    # embedding models.\n",
    ")\n",
    "\n",
    "pydantic_store = zyx.Memory(\n",
    "    \"pydantic_store\",\n",
    "    location=\":memory:\",\n",
    "    model_class=Data,  # Set the Pydantic model class to use.\n",
    ")"
   ]
  },
  {
   "cell_type": "markdown",
   "metadata": {},
   "source": [
    "## **Adding Data**"
   ]
  },
  {
   "cell_type": "code",
   "execution_count": 2,
   "metadata": {},
   "outputs": [
    {
     "name": "stderr",
     "output_type": "stream",
     "text": [
      "/home/hammad/miniconda3/envs/zyx/lib/python3.11/site-packages/pydantic/_internal/_config.py:341: UserWarning: Valid config keys have changed in V2:\n",
      "* 'underscore_attrs_are_private' has been removed\n",
      "  warnings.warn(message, UserWarning)\n"
     ]
    },
    {
     "data": {
      "text/html": [
       "<pre style=\"white-space:pre;overflow-x:auto;line-height:normal;font-family:Menlo,'DejaVu Sans Mono',consolas,'Courier New',monospace\"><span style=\"font-weight: bold\">[</span>\n",
       "    <span style=\"color: #800080; text-decoration-color: #800080; font-weight: bold\">Memory</span><span style=\"font-weight: bold\">(</span><span style=\"color: #808000; text-decoration-color: #808000\">memory_and_date</span>=<span style=\"color: #008000; text-decoration-color: #008000\">'Visited the Grand Canyon on 2021-06-15'</span><span style=\"font-weight: bold\">)</span>,\n",
       "    <span style=\"color: #800080; text-decoration-color: #800080; font-weight: bold\">Memory</span><span style=\"font-weight: bold\">(</span><span style=\"color: #808000; text-decoration-color: #808000\">memory_and_date</span>=<span style=\"color: #008000; text-decoration-color: #008000\">'Graduated from college on 2019-05-20'</span><span style=\"font-weight: bold\">)</span>,\n",
       "    <span style=\"color: #800080; text-decoration-color: #800080; font-weight: bold\">Memory</span><span style=\"font-weight: bold\">(</span><span style=\"color: #808000; text-decoration-color: #808000\">memory_and_date</span>=<span style=\"color: #008000; text-decoration-color: #008000\">'First day at my new job on 2020-01-10'</span><span style=\"font-weight: bold\">)</span>,\n",
       "    <span style=\"color: #800080; text-decoration-color: #800080; font-weight: bold\">Memory</span><span style=\"font-weight: bold\">(</span><span style=\"color: #808000; text-decoration-color: #808000\">memory_and_date</span>=<span style=\"color: #008000; text-decoration-color: #008000\">'Family vacation to Hawaii on 2018-07-25'</span><span style=\"font-weight: bold\">)</span>,\n",
       "    <span style=\"color: #800080; text-decoration-color: #800080; font-weight: bold\">Memory</span><span style=\"font-weight: bold\">(</span><span style=\"color: #808000; text-decoration-color: #808000\">memory_and_date</span>=<span style=\"color: #008000; text-decoration-color: #008000\">'Learned to ride a bike on 2010-04-05'</span><span style=\"font-weight: bold\">)</span>,\n",
       "    <span style=\"color: #800080; text-decoration-color: #800080; font-weight: bold\">Memory</span><span style=\"font-weight: bold\">(</span><span style=\"color: #808000; text-decoration-color: #808000\">memory_and_date</span>=<span style=\"color: #008000; text-decoration-color: #008000\">\"Attended my best friend's wedding on 2022-09-30\"</span><span style=\"font-weight: bold\">)</span>,\n",
       "    <span style=\"color: #800080; text-decoration-color: #800080; font-weight: bold\">Memory</span><span style=\"font-weight: bold\">(</span><span style=\"color: #808000; text-decoration-color: #808000\">memory_and_date</span>=<span style=\"color: #008000; text-decoration-color: #008000\">'Moved into my first apartment on 2021-03-01'</span><span style=\"font-weight: bold\">)</span>,\n",
       "    <span style=\"color: #800080; text-decoration-color: #800080; font-weight: bold\">Memory</span><span style=\"font-weight: bold\">(</span><span style=\"color: #808000; text-decoration-color: #808000\">memory_and_date</span>=<span style=\"color: #008000; text-decoration-color: #008000\">'Saw my favorite band live on 2017-11-12'</span><span style=\"font-weight: bold\">)</span>,\n",
       "    <span style=\"color: #800080; text-decoration-color: #800080; font-weight: bold\">Memory</span><span style=\"font-weight: bold\">(</span><span style=\"color: #808000; text-decoration-color: #808000\">memory_and_date</span>=<span style=\"color: #008000; text-decoration-color: #008000\">'Celebrated my 30th birthday on 2023-02-18'</span><span style=\"font-weight: bold\">)</span>,\n",
       "    <span style=\"color: #800080; text-decoration-color: #800080; font-weight: bold\">Memory</span><span style=\"font-weight: bold\">(</span><span style=\"color: #808000; text-decoration-color: #808000\">memory_and_date</span>=<span style=\"color: #008000; text-decoration-color: #008000\">'Took a road trip across the country on 2020-08-15'</span><span style=\"font-weight: bold\">)</span>\n",
       "<span style=\"font-weight: bold\">]</span>\n",
       "</pre>\n"
      ],
      "text/plain": [
       "\u001b[1m[\u001b[0m\n",
       "    \u001b[1;35mMemory\u001b[0m\u001b[1m(\u001b[0m\u001b[33mmemory_and_date\u001b[0m=\u001b[32m'Visited the Grand Canyon on 2021-06-15'\u001b[0m\u001b[1m)\u001b[0m,\n",
       "    \u001b[1;35mMemory\u001b[0m\u001b[1m(\u001b[0m\u001b[33mmemory_and_date\u001b[0m=\u001b[32m'Graduated from college on 2019-05-20'\u001b[0m\u001b[1m)\u001b[0m,\n",
       "    \u001b[1;35mMemory\u001b[0m\u001b[1m(\u001b[0m\u001b[33mmemory_and_date\u001b[0m=\u001b[32m'First day at my new job on 2020-01-10'\u001b[0m\u001b[1m)\u001b[0m,\n",
       "    \u001b[1;35mMemory\u001b[0m\u001b[1m(\u001b[0m\u001b[33mmemory_and_date\u001b[0m=\u001b[32m'Family vacation to Hawaii on 2018-07-25'\u001b[0m\u001b[1m)\u001b[0m,\n",
       "    \u001b[1;35mMemory\u001b[0m\u001b[1m(\u001b[0m\u001b[33mmemory_and_date\u001b[0m=\u001b[32m'Learned to ride a bike on 2010-04-05'\u001b[0m\u001b[1m)\u001b[0m,\n",
       "    \u001b[1;35mMemory\u001b[0m\u001b[1m(\u001b[0m\u001b[33mmemory_and_date\u001b[0m=\u001b[32m\"Attended\u001b[0m\u001b[32m my best friend's wedding on 2022-09-30\"\u001b[0m\u001b[1m)\u001b[0m,\n",
       "    \u001b[1;35mMemory\u001b[0m\u001b[1m(\u001b[0m\u001b[33mmemory_and_date\u001b[0m=\u001b[32m'Moved into my first apartment on 2021-03-01'\u001b[0m\u001b[1m)\u001b[0m,\n",
       "    \u001b[1;35mMemory\u001b[0m\u001b[1m(\u001b[0m\u001b[33mmemory_and_date\u001b[0m=\u001b[32m'Saw my favorite band live on 2017-11-12'\u001b[0m\u001b[1m)\u001b[0m,\n",
       "    \u001b[1;35mMemory\u001b[0m\u001b[1m(\u001b[0m\u001b[33mmemory_and_date\u001b[0m=\u001b[32m'Celebrated my 30th birthday on 2023-02-18'\u001b[0m\u001b[1m)\u001b[0m,\n",
       "    \u001b[1;35mMemory\u001b[0m\u001b[1m(\u001b[0m\u001b[33mmemory_and_date\u001b[0m=\u001b[32m'Took a road trip across the country on 2020-08-15'\u001b[0m\u001b[1m)\u001b[0m\n",
       "\u001b[1m]\u001b[0m\n"
      ]
     },
     "metadata": {},
     "output_type": "display_data"
    },
    {
     "name": "stderr",
     "output_type": "stream",
     "text": [
      "\u001b[32m2024-09-08 00:33:19.423\u001b[0m | \u001b[1mINFO    \u001b[0m | \u001b[36mzyx._client.memory\u001b[0m:\u001b[36madd\u001b[0m:\u001b[36m156\u001b[0m - \u001b[1mSuccessfully added 10 points to the collection.\u001b[0m\n",
      "\u001b[32m2024-09-08 00:33:19.616\u001b[0m | \u001b[1mINFO    \u001b[0m | \u001b[36mzyx._client.memory\u001b[0m:\u001b[36madd\u001b[0m:\u001b[36m156\u001b[0m - \u001b[1mSuccessfully added 1 points to the collection.\u001b[0m\n"
     ]
    }
   ],
   "source": [
    "class Memory(BaseModel):\n",
    "    memory_and_date: str\n",
    "\n",
    "\n",
    "base_data = zyx.generate(Memory, n=10)\n",
    "\n",
    "print(base_data)\n",
    "\n",
    "# Add it to the store\n",
    "base_store.add(base_data)\n",
    "base_store.add(\"My bestie and I went to the park yesterday 2023-08-01\")"
   ]
  },
  {
   "cell_type": "code",
   "execution_count": 3,
   "metadata": {},
   "outputs": [
    {
     "data": {
      "text/html": [
       "<pre style=\"white-space:pre;overflow-x:auto;line-height:normal;font-family:Menlo,'DejaVu Sans Mono',consolas,'Courier New',monospace\"><span style=\"font-weight: bold\">[</span>\n",
       "    <span style=\"color: #800080; text-decoration-color: #800080; font-weight: bold\">Data</span><span style=\"font-weight: bold\">(</span><span style=\"color: #808000; text-decoration-color: #808000\">memory</span>=<span style=\"color: #008000; text-decoration-color: #008000\">'Remember to buy groceries'</span>, <span style=\"color: #808000; text-decoration-color: #808000\">date</span>=<span style=\"color: #008000; text-decoration-color: #008000\">'2023-10-01'</span><span style=\"font-weight: bold\">)</span>,\n",
       "    <span style=\"color: #800080; text-decoration-color: #800080; font-weight: bold\">Data</span><span style=\"font-weight: bold\">(</span><span style=\"color: #808000; text-decoration-color: #808000\">memory</span>=<span style=\"color: #008000; text-decoration-color: #008000\">\"Doctor's appointment at 3 PM\"</span>, <span style=\"color: #808000; text-decoration-color: #808000\">date</span>=<span style=\"color: #008000; text-decoration-color: #008000\">'2023-10-02'</span><span style=\"font-weight: bold\">)</span>,\n",
       "    <span style=\"color: #800080; text-decoration-color: #800080; font-weight: bold\">Data</span><span style=\"font-weight: bold\">(</span><span style=\"color: #808000; text-decoration-color: #808000\">memory</span>=<span style=\"color: #008000; text-decoration-color: #008000\">'Meeting with the project team'</span>, <span style=\"color: #808000; text-decoration-color: #808000\">date</span>=<span style=\"color: #008000; text-decoration-color: #008000\">'2023-10-03'</span><span style=\"font-weight: bold\">)</span>,\n",
       "    <span style=\"color: #800080; text-decoration-color: #800080; font-weight: bold\">Data</span><span style=\"font-weight: bold\">(</span><span style=\"color: #808000; text-decoration-color: #808000\">memory</span>=<span style=\"color: #008000; text-decoration-color: #008000\">'Call mom'</span>, <span style=\"color: #808000; text-decoration-color: #808000\">date</span>=<span style=\"color: #008000; text-decoration-color: #008000\">'2023-10-04'</span><span style=\"font-weight: bold\">)</span>,\n",
       "    <span style=\"color: #800080; text-decoration-color: #800080; font-weight: bold\">Data</span><span style=\"font-weight: bold\">(</span><span style=\"color: #808000; text-decoration-color: #808000\">memory</span>=<span style=\"color: #008000; text-decoration-color: #008000\">'Finish the report by Friday'</span>, <span style=\"color: #808000; text-decoration-color: #808000\">date</span>=<span style=\"color: #008000; text-decoration-color: #008000\">'2023-10-05'</span><span style=\"font-weight: bold\">)</span>,\n",
       "    <span style=\"color: #800080; text-decoration-color: #800080; font-weight: bold\">Data</span><span style=\"font-weight: bold\">(</span><span style=\"color: #808000; text-decoration-color: #808000\">memory</span>=<span style=\"color: #008000; text-decoration-color: #008000\">'Plan weekend trip'</span>, <span style=\"color: #808000; text-decoration-color: #808000\">date</span>=<span style=\"color: #008000; text-decoration-color: #008000\">'2023-10-06'</span><span style=\"font-weight: bold\">)</span>,\n",
       "    <span style=\"color: #800080; text-decoration-color: #800080; font-weight: bold\">Data</span><span style=\"font-weight: bold\">(</span><span style=\"color: #808000; text-decoration-color: #808000\">memory</span>=<span style=\"color: #008000; text-decoration-color: #008000\">'Attend yoga class'</span>, <span style=\"color: #808000; text-decoration-color: #808000\">date</span>=<span style=\"color: #008000; text-decoration-color: #008000\">'2023-10-07'</span><span style=\"font-weight: bold\">)</span>,\n",
       "    <span style=\"color: #800080; text-decoration-color: #800080; font-weight: bold\">Data</span><span style=\"font-weight: bold\">(</span><span style=\"color: #808000; text-decoration-color: #808000\">memory</span>=<span style=\"color: #008000; text-decoration-color: #008000\">'Submit tax documents'</span>, <span style=\"color: #808000; text-decoration-color: #808000\">date</span>=<span style=\"color: #008000; text-decoration-color: #008000\">'2023-10-08'</span><span style=\"font-weight: bold\">)</span>,\n",
       "    <span style=\"color: #800080; text-decoration-color: #800080; font-weight: bold\">Data</span><span style=\"font-weight: bold\">(</span><span style=\"color: #808000; text-decoration-color: #808000\">memory</span>=<span style=\"color: #008000; text-decoration-color: #008000\">'Grocery shopping list'</span>, <span style=\"color: #808000; text-decoration-color: #808000\">date</span>=<span style=\"color: #008000; text-decoration-color: #008000\">'2023-10-09'</span><span style=\"font-weight: bold\">)</span>,\n",
       "    <span style=\"color: #800080; text-decoration-color: #800080; font-weight: bold\">Data</span><span style=\"font-weight: bold\">(</span><span style=\"color: #808000; text-decoration-color: #808000\">memory</span>=<span style=\"color: #008000; text-decoration-color: #008000\">'Prepare for the presentation'</span>, <span style=\"color: #808000; text-decoration-color: #808000\">date</span>=<span style=\"color: #008000; text-decoration-color: #008000\">'2023-10-10'</span><span style=\"font-weight: bold\">)</span>\n",
       "<span style=\"font-weight: bold\">]</span>\n",
       "</pre>\n"
      ],
      "text/plain": [
       "\u001b[1m[\u001b[0m\n",
       "    \u001b[1;35mData\u001b[0m\u001b[1m(\u001b[0m\u001b[33mmemory\u001b[0m=\u001b[32m'Remember to buy groceries'\u001b[0m, \u001b[33mdate\u001b[0m=\u001b[32m'2023-10-01'\u001b[0m\u001b[1m)\u001b[0m,\n",
       "    \u001b[1;35mData\u001b[0m\u001b[1m(\u001b[0m\u001b[33mmemory\u001b[0m=\u001b[32m\"Doctor\u001b[0m\u001b[32m's appointment at 3 PM\"\u001b[0m, \u001b[33mdate\u001b[0m=\u001b[32m'2023-10-02'\u001b[0m\u001b[1m)\u001b[0m,\n",
       "    \u001b[1;35mData\u001b[0m\u001b[1m(\u001b[0m\u001b[33mmemory\u001b[0m=\u001b[32m'Meeting with the project team'\u001b[0m, \u001b[33mdate\u001b[0m=\u001b[32m'2023-10-03'\u001b[0m\u001b[1m)\u001b[0m,\n",
       "    \u001b[1;35mData\u001b[0m\u001b[1m(\u001b[0m\u001b[33mmemory\u001b[0m=\u001b[32m'Call mom'\u001b[0m, \u001b[33mdate\u001b[0m=\u001b[32m'2023-10-04'\u001b[0m\u001b[1m)\u001b[0m,\n",
       "    \u001b[1;35mData\u001b[0m\u001b[1m(\u001b[0m\u001b[33mmemory\u001b[0m=\u001b[32m'Finish the report by Friday'\u001b[0m, \u001b[33mdate\u001b[0m=\u001b[32m'2023-10-05'\u001b[0m\u001b[1m)\u001b[0m,\n",
       "    \u001b[1;35mData\u001b[0m\u001b[1m(\u001b[0m\u001b[33mmemory\u001b[0m=\u001b[32m'Plan weekend trip'\u001b[0m, \u001b[33mdate\u001b[0m=\u001b[32m'2023-10-06'\u001b[0m\u001b[1m)\u001b[0m,\n",
       "    \u001b[1;35mData\u001b[0m\u001b[1m(\u001b[0m\u001b[33mmemory\u001b[0m=\u001b[32m'Attend yoga class'\u001b[0m, \u001b[33mdate\u001b[0m=\u001b[32m'2023-10-07'\u001b[0m\u001b[1m)\u001b[0m,\n",
       "    \u001b[1;35mData\u001b[0m\u001b[1m(\u001b[0m\u001b[33mmemory\u001b[0m=\u001b[32m'Submit tax documents'\u001b[0m, \u001b[33mdate\u001b[0m=\u001b[32m'2023-10-08'\u001b[0m\u001b[1m)\u001b[0m,\n",
       "    \u001b[1;35mData\u001b[0m\u001b[1m(\u001b[0m\u001b[33mmemory\u001b[0m=\u001b[32m'Grocery shopping list'\u001b[0m, \u001b[33mdate\u001b[0m=\u001b[32m'2023-10-09'\u001b[0m\u001b[1m)\u001b[0m,\n",
       "    \u001b[1;35mData\u001b[0m\u001b[1m(\u001b[0m\u001b[33mmemory\u001b[0m=\u001b[32m'Prepare for the presentation'\u001b[0m, \u001b[33mdate\u001b[0m=\u001b[32m'2023-10-10'\u001b[0m\u001b[1m)\u001b[0m\n",
       "\u001b[1m]\u001b[0m\n"
      ]
     },
     "metadata": {},
     "output_type": "display_data"
    },
    {
     "name": "stderr",
     "output_type": "stream",
     "text": [
      "\u001b[32m2024-09-08 00:33:23.230\u001b[0m | \u001b[1mINFO    \u001b[0m | \u001b[36mzyx._client.memory\u001b[0m:\u001b[36madd\u001b[0m:\u001b[36m156\u001b[0m - \u001b[1mSuccessfully added 10 points to the collection.\u001b[0m\n",
      "\u001b[32m2024-09-08 00:33:23.364\u001b[0m | \u001b[1mINFO    \u001b[0m | \u001b[36mzyx._client.memory\u001b[0m:\u001b[36madd\u001b[0m:\u001b[36m156\u001b[0m - \u001b[1mSuccessfully added 1 points to the collection.\u001b[0m\n"
     ]
    }
   ],
   "source": [
    "pydantic_data = zyx.generate(Data, n=10)\n",
    "\n",
    "print(pydantic_data)\n",
    "\n",
    "# Add it to the store\n",
    "pydantic_store.add(pydantic_data)\n",
    "pydantic_store.add(\n",
    "    Data(memory=\"My bestie and I went to the park yesterday\", date=\"2023-08-01\")\n",
    ")"
   ]
  },
  {
   "cell_type": "markdown",
   "metadata": {},
   "source": [
    "## **Querying Data**\n",
    "\n",
    "Lets query the data we just added."
   ]
  },
  {
   "cell_type": "code",
   "execution_count": 4,
   "metadata": {},
   "outputs": [
    {
     "data": {
      "text/html": [
       "<pre style=\"white-space:pre;overflow-x:auto;line-height:normal;font-family:Menlo,'DejaVu Sans Mono',consolas,'Courier New',monospace\">Did i do anything with my best friend?\n",
       "</pre>\n"
      ],
      "text/plain": [
       "Did i do anything with my best friend?\n"
      ]
     },
     "metadata": {},
     "output_type": "display_data"
    },
    {
     "data": {
      "text/html": [
       "<pre style=\"white-space:pre;overflow-x:auto;line-height:normal;font-family:Menlo,'DejaVu Sans Mono',consolas,'Courier New',monospace\">My bestie and I went to the park yesterday <span style=\"color: #008080; text-decoration-color: #008080; font-weight: bold\">2023</span>-<span style=\"color: #008080; text-decoration-color: #008080; font-weight: bold\">08</span>-<span style=\"color: #008080; text-decoration-color: #008080; font-weight: bold\">01</span>\n",
       "</pre>\n"
      ],
      "text/plain": [
       "My bestie and I went to the park yesterday \u001b[1;36m2023\u001b[0m-\u001b[1;36m08\u001b[0m-\u001b[1;36m01\u001b[0m\n"
      ]
     },
     "metadata": {},
     "output_type": "display_data"
    },
    {
     "data": {
      "text/html": [
       "<pre style=\"white-space:pre;overflow-x:auto;line-height:normal;font-family:Menlo,'DejaVu Sans Mono',consolas,'Courier New',monospace\"><span style=\"font-weight: bold\">{</span><span style=\"color: #008000; text-decoration-color: #008000\">\"memory_and_date\"</span>: <span style=\"color: #008000; text-decoration-color: #008000\">\"Attended my best friend's wedding on 2022-09-30\"</span><span style=\"font-weight: bold\">}</span>\n",
       "</pre>\n"
      ],
      "text/plain": [
       "\u001b[1m{\u001b[0m\u001b[32m\"memory_and_date\"\u001b[0m: \u001b[32m\"Attended my best friend's wedding on 2022-09-30\"\u001b[0m\u001b[1m}\u001b[0m\n"
      ]
     },
     "metadata": {},
     "output_type": "display_data"
    },
    {
     "data": {
      "text/html": [
       "<pre style=\"white-space:pre;overflow-x:auto;line-height:normal;font-family:Menlo,'DejaVu Sans Mono',consolas,'Courier New',monospace\"><span style=\"font-weight: bold\">{</span><span style=\"color: #008000; text-decoration-color: #008000\">\"memory_and_date\"</span>: <span style=\"color: #008000; text-decoration-color: #008000\">\"Took a road trip across the country on 2020-08-15\"</span><span style=\"font-weight: bold\">}</span>\n",
       "</pre>\n"
      ],
      "text/plain": [
       "\u001b[1m{\u001b[0m\u001b[32m\"memory_and_date\"\u001b[0m: \u001b[32m\"Took a road trip across the country on 2020-08-15\"\u001b[0m\u001b[1m}\u001b[0m\n"
      ]
     },
     "metadata": {},
     "output_type": "display_data"
    },
    {
     "data": {
      "text/html": [
       "<pre style=\"white-space:pre;overflow-x:auto;line-height:normal;font-family:Menlo,'DejaVu Sans Mono',consolas,'Courier New',monospace\"><span style=\"font-weight: bold\">{</span><span style=\"color: #008000; text-decoration-color: #008000\">\"memory_and_date\"</span>: <span style=\"color: #008000; text-decoration-color: #008000\">\"Learned to ride a bike on 2010-04-05\"</span><span style=\"font-weight: bold\">}</span>\n",
       "</pre>\n"
      ],
      "text/plain": [
       "\u001b[1m{\u001b[0m\u001b[32m\"memory_and_date\"\u001b[0m: \u001b[32m\"Learned to ride a bike on 2010-04-05\"\u001b[0m\u001b[1m}\u001b[0m\n"
      ]
     },
     "metadata": {},
     "output_type": "display_data"
    },
    {
     "data": {
      "text/html": [
       "<pre style=\"white-space:pre;overflow-x:auto;line-height:normal;font-family:Menlo,'DejaVu Sans Mono',consolas,'Courier New',monospace\"><span style=\"font-weight: bold\">{</span><span style=\"color: #008000; text-decoration-color: #008000\">\"memory_and_date\"</span>: <span style=\"color: #008000; text-decoration-color: #008000\">\"Moved into my first apartment on 2021-03-01\"</span><span style=\"font-weight: bold\">}</span>\n",
       "</pre>\n"
      ],
      "text/plain": [
       "\u001b[1m{\u001b[0m\u001b[32m\"memory_and_date\"\u001b[0m: \u001b[32m\"Moved into my first apartment on 2021-03-01\"\u001b[0m\u001b[1m}\u001b[0m\n"
      ]
     },
     "metadata": {},
     "output_type": "display_data"
    }
   ],
   "source": [
    "results = base_store.search(\"Did i do anything with my best friend?\")\n",
    "\n",
    "print(results.query)\n",
    "for result in results.results:\n",
    "    print(result.text)"
   ]
  },
  {
   "cell_type": "code",
   "execution_count": 5,
   "metadata": {},
   "outputs": [
    {
     "data": {
      "text/html": [
       "<pre style=\"white-space:pre;overflow-x:auto;line-height:normal;font-family:Menlo,'DejaVu Sans Mono',consolas,'Courier New',monospace\">Did i do anything with my best friend?\n",
       "</pre>\n"
      ],
      "text/plain": [
       "Did i do anything with my best friend?\n"
      ]
     },
     "metadata": {},
     "output_type": "display_data"
    },
    {
     "data": {
      "text/html": [
       "<pre style=\"white-space:pre;overflow-x:auto;line-height:normal;font-family:Menlo,'DejaVu Sans Mono',consolas,'Courier New',monospace\"><span style=\"color: #808000; text-decoration-color: #808000\">memory</span>=<span style=\"color: #008000; text-decoration-color: #008000\">'My bestie and I went to the park yesterday'</span> <span style=\"color: #808000; text-decoration-color: #808000\">date</span>=<span style=\"color: #008000; text-decoration-color: #008000\">'2023-08-01'</span>\n",
       "</pre>\n"
      ],
      "text/plain": [
       "\u001b[33mmemory\u001b[0m=\u001b[32m'My bestie and I went to the park yesterday'\u001b[0m \u001b[33mdate\u001b[0m=\u001b[32m'2023-08-01'\u001b[0m\n"
      ]
     },
     "metadata": {},
     "output_type": "display_data"
    },
    {
     "data": {
      "text/html": [
       "<pre style=\"white-space:pre;overflow-x:auto;line-height:normal;font-family:Menlo,'DejaVu Sans Mono',consolas,'Courier New',monospace\"><span style=\"color: #808000; text-decoration-color: #808000\">memory</span>=<span style=\"color: #008000; text-decoration-color: #008000\">'Call mom'</span> <span style=\"color: #808000; text-decoration-color: #808000\">date</span>=<span style=\"color: #008000; text-decoration-color: #008000\">'2023-10-04'</span>\n",
       "</pre>\n"
      ],
      "text/plain": [
       "\u001b[33mmemory\u001b[0m=\u001b[32m'Call mom'\u001b[0m \u001b[33mdate\u001b[0m=\u001b[32m'2023-10-04'\u001b[0m\n"
      ]
     },
     "metadata": {},
     "output_type": "display_data"
    },
    {
     "data": {
      "text/html": [
       "<pre style=\"white-space:pre;overflow-x:auto;line-height:normal;font-family:Menlo,'DejaVu Sans Mono',consolas,'Courier New',monospace\"><span style=\"color: #808000; text-decoration-color: #808000\">memory</span>=<span style=\"color: #008000; text-decoration-color: #008000\">'Plan weekend trip'</span> <span style=\"color: #808000; text-decoration-color: #808000\">date</span>=<span style=\"color: #008000; text-decoration-color: #008000\">'2023-10-06'</span>\n",
       "</pre>\n"
      ],
      "text/plain": [
       "\u001b[33mmemory\u001b[0m=\u001b[32m'Plan weekend trip'\u001b[0m \u001b[33mdate\u001b[0m=\u001b[32m'2023-10-06'\u001b[0m\n"
      ]
     },
     "metadata": {},
     "output_type": "display_data"
    },
    {
     "data": {
      "text/html": [
       "<pre style=\"white-space:pre;overflow-x:auto;line-height:normal;font-family:Menlo,'DejaVu Sans Mono',consolas,'Courier New',monospace\"><span style=\"color: #808000; text-decoration-color: #808000\">memory</span>=<span style=\"color: #008000; text-decoration-color: #008000\">'Meeting with the project team'</span> <span style=\"color: #808000; text-decoration-color: #808000\">date</span>=<span style=\"color: #008000; text-decoration-color: #008000\">'2023-10-03'</span>\n",
       "</pre>\n"
      ],
      "text/plain": [
       "\u001b[33mmemory\u001b[0m=\u001b[32m'Meeting with the project team'\u001b[0m \u001b[33mdate\u001b[0m=\u001b[32m'2023-10-03'\u001b[0m\n"
      ]
     },
     "metadata": {},
     "output_type": "display_data"
    },
    {
     "data": {
      "text/html": [
       "<pre style=\"white-space:pre;overflow-x:auto;line-height:normal;font-family:Menlo,'DejaVu Sans Mono',consolas,'Courier New',monospace\"><span style=\"color: #808000; text-decoration-color: #808000\">memory</span>=<span style=\"color: #008000; text-decoration-color: #008000\">'Attend yoga class'</span> <span style=\"color: #808000; text-decoration-color: #808000\">date</span>=<span style=\"color: #008000; text-decoration-color: #008000\">'2023-10-07'</span>\n",
       "</pre>\n"
      ],
      "text/plain": [
       "\u001b[33mmemory\u001b[0m=\u001b[32m'Attend yoga class'\u001b[0m \u001b[33mdate\u001b[0m=\u001b[32m'2023-10-07'\u001b[0m\n"
      ]
     },
     "metadata": {},
     "output_type": "display_data"
    }
   ],
   "source": [
    "results = pydantic_store.search(\"Did i do anything with my best friend?\")\n",
    "\n",
    "print(results.query)\n",
    "for result in results.results:\n",
    "    print(result.text)"
   ]
  },
  {
   "cell_type": "markdown",
   "metadata": {},
   "source": [
    "## **LLM (RAG) Completions**"
   ]
  },
  {
   "cell_type": "code",
   "execution_count": 6,
   "metadata": {},
   "outputs": [
    {
     "name": "stderr",
     "output_type": "stream",
     "text": [
      "\u001b[32m2024-09-08 00:34:38.775\u001b[0m | \u001b[1mINFO    \u001b[0m | \u001b[36mzyx._client.memory\u001b[0m:\u001b[36mcompletion\u001b[0m:\u001b[36m277\u001b[0m - \u001b[1mInitial messages: Did i do anything with my best friend?\u001b[0m\n"
     ]
    },
    {
     "data": {
      "text/html": [
       "<pre style=\"white-space:pre;overflow-x:auto;line-height:normal;font-family:Menlo,'DejaVu Sans Mono',consolas,'Courier New',monospace\">Yes, you went to the park with your best friend on August <span style=\"color: #008080; text-decoration-color: #008080; font-weight: bold\">1</span>, <span style=\"color: #008080; text-decoration-color: #008080; font-weight: bold\">2023</span>. Additionally, you attended your best friend's \n",
       "wedding on September <span style=\"color: #008080; text-decoration-color: #008080; font-weight: bold\">30</span>, <span style=\"color: #008080; text-decoration-color: #008080; font-weight: bold\">2022</span>.\n",
       "</pre>\n"
      ],
      "text/plain": [
       "Yes, you went to the park with your best friend on August \u001b[1;36m1\u001b[0m, \u001b[1;36m2023\u001b[0m. Additionally, you attended your best friend's \n",
       "wedding on September \u001b[1;36m30\u001b[0m, \u001b[1;36m2022\u001b[0m.\n"
      ]
     },
     "metadata": {},
     "output_type": "display_data"
    }
   ],
   "source": [
    "response = base_store.completion(\"Did i do anything with my best friend?\")\n",
    "\n",
    "print(response.choices[0].message.content)"
   ]
  },
  {
   "cell_type": "code",
   "execution_count": 7,
   "metadata": {},
   "outputs": [
    {
     "name": "stderr",
     "output_type": "stream",
     "text": [
      "\u001b[32m2024-09-08 00:34:39.951\u001b[0m | \u001b[1mINFO    \u001b[0m | \u001b[36mzyx._client.memory\u001b[0m:\u001b[36mcompletion\u001b[0m:\u001b[36m277\u001b[0m - \u001b[1mInitial messages: Did i do anything with my best friend?\u001b[0m\n"
     ]
    },
    {
     "data": {
      "text/html": [
       "<pre style=\"white-space:pre;overflow-x:auto;line-height:normal;font-family:Menlo,'DejaVu Sans Mono',consolas,'Courier New',monospace\">Yes, according to your memory stored under ID: <span style=\"color: #ffff00; text-decoration-color: #ffff00\">80446fe4-acd5-4235-8552-65c01531f84f</span>, you and your <span style=\"color: #008000; text-decoration-color: #008000\">\"bestie\"</span> <span style=\"font-weight: bold\">(</span>best \n",
       "friend<span style=\"font-weight: bold\">)</span> went to the park yesterday.\n",
       "</pre>\n"
      ],
      "text/plain": [
       "Yes, according to your memory stored under ID: \u001b[93m80446fe4-acd5-4235-8552-65c01531f84f\u001b[0m, you and your \u001b[32m\"bestie\"\u001b[0m \u001b[1m(\u001b[0mbest \n",
       "friend\u001b[1m)\u001b[0m went to the park yesterday.\n"
      ]
     },
     "metadata": {},
     "output_type": "display_data"
    }
   ],
   "source": [
    "response = pydantic_store.completion(\n",
    "    \"Did i do anything with my best friend?\", model=\"ollama/llama3.1\"\n",
    ")\n",
    "\n",
    "print(response.choices[0].message.content)"
   ]
  }
 ],
 "metadata": {
  "kernelspec": {
   "display_name": "zyx",
   "language": "python",
   "name": "python3"
  },
  "language_info": {
   "codemirror_mode": {
    "name": "ipython",
    "version": 3
   },
   "file_extension": ".py",
   "mimetype": "text/x-python",
   "name": "python",
   "nbconvert_exporter": "python",
   "pygments_lexer": "ipython3",
   "version": "3.11.9"
  }
 },
 "nbformat": 4,
 "nbformat_minor": 2
}
