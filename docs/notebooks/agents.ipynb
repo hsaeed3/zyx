{
 "cells": [
  {
   "cell_type": "markdown",
   "metadata": {},
   "source": [
    "# **Conversational Agents** | *Very Experimental*\n",
    "\n",
    "New in <samp>zyx</samp> is a newly created multi-agent framework, with support for tools, planning, supervision and more. </br>\n",
    "\n",
    "- This framework follows the <samp>zyx</samp> architecture, and is built on top of the <code>LiteLLM</code> & <code>Instructor</code> completion module. </br>\n",
    "- This framework presents a new way of looking at a multi-agent system, to be used as a state managed, conversational orchestration. </br></br>\n",
    "\n",
    "### **Current Features**:\n",
    "\n",
    "    - ***LLM Based Intent Classification***\n",
    "    - ***Dynamically Generated Workflows & Tasks***\n",
    "    - ***Artifact Generation & Guidance (Inspired by Claude)***\n",
    "    - ***Custom Tool Usage***\n",
    "    - ***Dynamic Short-Term Memory Management***\n",
    "    - ***Supervision of Workflows***\n",
    "    - ***Reflective Analysis of Tools & Workflows***\n",
    "\n",
    "### **Planned Features**:\n",
    "\n",
    "    - ***Long-Term Memory Management (Enter Old Workflows)***\n",
    "    - ***Add More 'Worker Agents'***\n",
    "    - ***Graph Based Tool Classification (To allow 'unlimited' tools) (Very Soon)***\n",
    "    - ***Chat Response Customization (Very Soon)***\n",
    "\n",
    "**Additional & Complex Customization and Modularity will be introduced in time, dont worry.**</br></br>\n",
    "\n",
    "***Below is a high level flowchart of the implementation of this framework.***\n",
    "\n",
    "```mermaid\n",
    "flowchart TD\n",
    "    A[on_message] --> B{Workflow state?}\n",
    "    B -->|IDLE| C[Handle Chat]\n",
    "    B -->|Active| D[Classify Intent]\n",
    "    \n",
    "    D --> E{Tool or Retrieve?}\n",
    "    E -->|Tool| F[Use Tool]\n",
    "    E -->|Retrieve| G[Retrieve Info]\n",
    "    E -->|Neither| H{Stream?}\n",
    "    \n",
    "    H -->|Yes| I[Stream Response]\n",
    "    H -->|No| J[Handle Intent]\n",
    "    \n",
    "    J --> K{Intent Type}\n",
    "    K -->|Chat| C\n",
    "    K -->|Plan| L[Plan]\n",
    "    K -->|Execute| M[Execute]\n",
    "    K -->|Evaluate| N[Evaluate]\n",
    "    K -->|Generate| O[Generate]\n",
    "    K -->|Reflect| P[Reflect]\n",
    "    \n",
    "    C --> Q[Update Memory]\n",
    "    F --> Q\n",
    "    G --> Q\n",
    "    I --> Q\n",
    "    L --> Q\n",
    "    M --> Q\n",
    "    N --> Q\n",
    "    O --> Q\n",
    "    P --> Q\n",
    "    \n",
    "    Q --> R{Generate Artifact?}\n",
    "    R -->|Yes| S[Generate Artifact]\n",
    "    R -->|No| T[Return Response]\n",
    "    S --> T\n",
    "\n",
    "    F --> U[Select Tool]\n",
    "    U --> V[Get Tool Args]\n",
    "    V --> W[Execute Tool]\n",
    "    W --> Q\n",
    "\n",
    "    G --> X[Use Retriever Tool]\n",
    "    X --> Y[Summarize Retrieved Info]\n",
    "    Y --> Q\n",
    "\n",
    "    classDef default fill:#f9f,stroke:#333,stroke-width:2px;\n",
    "    classDef process fill:#bbf,stroke:#333,stroke-width:2px,color:#000,stroke-dasharray: 5 5;\n",
    "    classDef decision fill:#ff7,stroke:#333,stroke-width:2px;\n",
    "    classDef io fill:#beb,stroke:#333,stroke-width:2px;\n",
    "    \n",
    "    class A,C,F,G,I,L,M,N,O,P,S,U,V,W,X,Y process;\n",
    "    class B,E,H,J,K,R decision;\n",
    "    class Q io;\n",
    "    class T io;\n",
    "```"
   ]
  },
  {
   "cell_type": "markdown",
   "metadata": {},
   "source": [
    "## ***Why Conversational Agents?***\n",
    "\n",
    "Creating conversational agents, with an ability to save complex state & workflows, allows for an organic way of interacting with LLMs. Currently, most agentic frameworks are focused on single or few shot workflows, diminishing the customization or tweakable ability of the user's desired outcome."
   ]
  },
  {
   "cell_type": "markdown",
   "metadata": {},
   "source": [
    "## **Creating the Agentic Workflow**"
   ]
  },
  {
   "cell_type": "code",
   "execution_count": 9,
   "metadata": {},
   "outputs": [
    {
     "name": "stderr",
     "output_type": "stream",
     "text": [
      "\u001b[32m2024-09-08 05:29:26.192\u001b[0m | \u001b[1mINFO    \u001b[0m | \u001b[36mzyx._client.memory\u001b[0m:\u001b[36m_create_collection\u001b[0m:\u001b[36m73\u001b[0m - \u001b[1mCollection 'agents_memory' does not exist. Creating it now.\u001b[0m\n",
      "\u001b[32m2024-09-08 05:29:26.193\u001b[0m | \u001b[1mINFO    \u001b[0m | \u001b[36mzyx._client.memory\u001b[0m:\u001b[36m_create_collection\u001b[0m:\u001b[36m82\u001b[0m - \u001b[1mCollection 'agents_memory' created successfully.\u001b[0m\n"
     ]
    }
   ],
   "source": [
    "import zyx\n",
    "\n",
    "# Create the workflow\n",
    "agents = zyx.Agents(\n",
    "    model=\"gpt-4o-mini\",\n",
    "    # Lets use some prebuilt zyx tools\n",
    "    tools=[\n",
    "        zyx.tools.execute_code,  # Code Executor\n",
    "        zyx.tools.write_file,  # File Writer\n",
    "    ],\n",
    "    verbose=True,\n",
    ")"
   ]
  },
  {
   "cell_type": "markdown",
   "metadata": {},
   "source": [
    "## **Sending a Message**\n",
    "\n",
    "Messages will run through an intent classification step, to determine the next action. This allows for the creation of <code>Artifacts</code> & <code>Dynamic Workflows</code>."
   ]
  },
  {
   "cell_type": "code",
   "execution_count": 10,
   "metadata": {},
   "outputs": [
    {
     "name": "stderr",
     "output_type": "stream",
     "text": [
      "\u001b[32m2024-09-08 05:29:30.482\u001b[0m | \u001b[1mINFO    \u001b[0m | \u001b[36mzyx._client.memory\u001b[0m:\u001b[36madd\u001b[0m:\u001b[36m156\u001b[0m - \u001b[1mSuccessfully added 1 points to the collection.\u001b[0m\n",
      "\u001b[32m2024-09-08 05:29:31.483\u001b[0m | \u001b[1mINFO    \u001b[0m | \u001b[36mzyx._client.memory\u001b[0m:\u001b[36madd\u001b[0m:\u001b[36m156\u001b[0m - \u001b[1mSuccessfully added 1 points to the collection.\u001b[0m\n"
     ]
    },
    {
     "data": {
      "text/html": [
       "<pre style=\"white-space:pre;overflow-x:auto;line-height:normal;font-family:Menlo,'DejaVu Sans Mono',consolas,'Courier New',monospace\">Hello! How can I assist you today?\n",
       "</pre>\n"
      ],
      "text/plain": [
       "Hello! How can I assist you today?\n"
      ]
     },
     "metadata": {},
     "output_type": "display_data"
    }
   ],
   "source": [
    "response = agents.completion(\"Hi\")\n",
    "\n",
    "print(response)"
   ]
  },
  {
   "cell_type": "markdown",
   "metadata": {},
   "source": [
    "> The response was short and simple, as it was classified as a simple chat intent. Lets start asking the agents to help us write some code."
   ]
  },
  {
   "cell_type": "markdown",
   "metadata": {},
   "source": [
    "## **Creating Goals & Artifacts**\n",
    "\n",
    "Goals are optimized towards the type of tools presented to the agents. The framework will reason differently based on the toolset it has access to. \n",
    "\n",
    "> In a soon update, the concept behind contextual memory will be implemented for tools, allowing 'infinite' tools to be used."
   ]
  },
  {
   "cell_type": "code",
   "execution_count": 11,
   "metadata": {},
   "outputs": [
    {
     "name": "stderr",
     "output_type": "stream",
     "text": [
      "\u001b[32m2024-09-08 05:29:39.220\u001b[0m | \u001b[1mINFO    \u001b[0m | \u001b[36mzyx._client.memory\u001b[0m:\u001b[36madd\u001b[0m:\u001b[36m156\u001b[0m - \u001b[1mSuccessfully added 1 points to the collection.\u001b[0m\n",
      "\u001b[32m2024-09-08 05:29:43.034\u001b[0m | \u001b[1mINFO    \u001b[0m | \u001b[36mzyx._client.memory\u001b[0m:\u001b[36madd\u001b[0m:\u001b[36m156\u001b[0m - \u001b[1mSuccessfully added 1 points to the collection.\u001b[0m\n"
     ]
    },
    {
     "data": {
      "text/html": [
       "<pre style=\"white-space:pre;overflow-x:auto;line-height:normal;font-family:Menlo,'DejaVu Sans Mono',consolas,'Courier New',monospace\"><span style=\"color: #00ff00; text-decoration-color: #00ff00; font-style: italic\">True</span>\n",
       "</pre>\n"
      ],
      "text/plain": [
       "\u001b[3;92mTrue\u001b[0m\n"
      ]
     },
     "metadata": {},
     "output_type": "display_data"
    }
   ],
   "source": [
    "response = agents.completion(\n",
    "    \"I want to start writing an HTML page, that has a nice title in a box.\"\n",
    ")\n",
    "\n",
    "print(response)"
   ]
  },
  {
   "cell_type": "markdown",
   "metadata": {},
   "source": [
    "> If you notice in the ./examples/zyx_tools directory, a file was created for us, with our newly created HTML code. Lets view the file."
   ]
  },
  {
   "cell_type": "code",
   "execution_count": null,
   "metadata": {},
   "outputs": [],
   "source": [
    "# Install IPython if not installed\n",
    "! pip install ipython --quiet"
   ]
  },
  {
   "cell_type": "code",
   "execution_count": null,
   "metadata": {},
   "outputs": [],
   "source": [
    "from IPython.display import HTML, display\n",
    "\n",
    "display(HTML(\"./zyx_tools/index.html\"))"
   ]
  },
  {
   "cell_type": "markdown",
   "metadata": {},
   "source": [
    "## **Artifact Review & Regeneration**\n",
    "\n",
    "> It appears the title is not that visible, lets change the color of it."
   ]
  },
  {
   "cell_type": "code",
   "execution_count": 12,
   "metadata": {},
   "outputs": [
    {
     "name": "stderr",
     "output_type": "stream",
     "text": [
      "\u001b[32m2024-09-08 05:32:49.765\u001b[0m | \u001b[1mINFO    \u001b[0m | \u001b[36mzyx._client.memory\u001b[0m:\u001b[36madd\u001b[0m:\u001b[36m156\u001b[0m - \u001b[1mSuccessfully added 1 points to the collection.\u001b[0m\n",
      "\u001b[32m2024-09-08 05:32:53.359\u001b[0m | \u001b[1mINFO    \u001b[0m | \u001b[36mzyx._client.memory\u001b[0m:\u001b[36madd\u001b[0m:\u001b[36m156\u001b[0m - \u001b[1mSuccessfully added 1 points to the collection.\u001b[0m\n"
     ]
    },
    {
     "data": {
      "text/html": [
       "<pre style=\"white-space:pre;overflow-x:auto;line-height:normal;font-family:Menlo,'DejaVu Sans Mono',consolas,'Courier New',monospace\"><span style=\"color: #00ff00; text-decoration-color: #00ff00; font-style: italic\">True</span>\n",
       "</pre>\n"
      ],
      "text/plain": [
       "\u001b[3;92mTrue\u001b[0m\n"
      ]
     },
     "metadata": {},
     "output_type": "display_data"
    },
    {
     "data": {
      "text/html": [
       "<!DOCTYPE html>\n",
       "<html lang=\"en\">\n",
       "<head>\n",
       "    <meta charset=\"UTF-8\">\n",
       "    <meta name=\"viewport\" content=\"width=device-width, initial-scale=1.0\">\n",
       "    <title>My Nice Title</title>\n",
       "    <style>\n",
       "        .title-box {\n",
       "            border: 2px solid #000;\n",
       "            padding: 20px;\n",
       "            text-align: center;\n",
       "            font-size: 24px;\n",
       "            background-color: #f0f0f0;\n",
       "            color: red;\n",
       "        }\n",
       "    </style>\n",
       "</head>\n",
       "<body>\n",
       "    <div class=\"title-box\">\n",
       "        My Nice Title\n",
       "    </div>\n",
       "</body>\n",
       "</html>"
      ],
      "text/plain": [
       "<IPython.core.display.HTML object>"
      ]
     },
     "metadata": {},
     "output_type": "display_data"
    }
   ],
   "source": [
    "response = agents.completion(\"Make the title red\")\n",
    "\n",
    "print(response)\n",
    "\n",
    "display(HTML(\"./zyx_tools/index.html\"))"
   ]
  },
  {
   "cell_type": "markdown",
   "metadata": {},
   "source": [
    "## **Lets Change the Topic**\n",
    "\n"
   ]
  },
  {
   "cell_type": "code",
   "execution_count": 13,
   "metadata": {},
   "outputs": [
    {
     "name": "stderr",
     "output_type": "stream",
     "text": [
      "\u001b[32m2024-09-08 05:34:36.361\u001b[0m | \u001b[1mINFO    \u001b[0m | \u001b[36mzyx._client.memory\u001b[0m:\u001b[36madd\u001b[0m:\u001b[36m156\u001b[0m - \u001b[1mSuccessfully added 1 points to the collection.\u001b[0m\n",
      "\u001b[32m2024-09-08 05:34:41.562\u001b[0m | \u001b[1mINFO    \u001b[0m | \u001b[36mzyx._client.memory\u001b[0m:\u001b[36madd\u001b[0m:\u001b[36m156\u001b[0m - \u001b[1mSuccessfully added 1 points to the collection.\u001b[0m\n"
     ]
    },
    {
     "data": {
      "text/html": [
       "<pre style=\"white-space:pre;overflow-x:auto;line-height:normal;font-family:Menlo,'DejaVu Sans Mono',consolas,'Courier New',monospace\">To get started learning Python, you can follow these steps:\n",
       "\n",
       "<span style=\"color: #008080; text-decoration-color: #008080; font-weight: bold\">1</span>. **Install Python**: Download and install the latest version of Python from the official website \n",
       "<span style=\"font-weight: bold\">(</span><span style=\"color: #0000ff; text-decoration-color: #0000ff; text-decoration: underline\">https://www.python.org/downloads/).</span>\n",
       "\n",
       "<span style=\"color: #008080; text-decoration-color: #008080; font-weight: bold\">2</span>. **Set Up an IDE**: Choose an Integrated Development Environment <span style=\"font-weight: bold\">(</span>IDE<span style=\"font-weight: bold\">)</span> to write your code. Popular options \n",
       "include PyCharm, Visual Studio Code, or even simple text editors like Sublime Text.\n",
       "\n",
       "<span style=\"color: #008080; text-decoration-color: #008080; font-weight: bold\">3</span>. **Learn the Basics**: Familiarize yourself with the basic syntax, data types, and control structures in Python. \n",
       "Resources like <span style=\"color: #008000; text-decoration-color: #008000\">\"Automate the Boring Stuff with Python\"</span> and Codecademy's Python course are great starting points.\n",
       "\n",
       "<span style=\"color: #008080; text-decoration-color: #008080; font-weight: bold\">4</span>. **Practice Coding**: Start solving problems on platforms like LeetCode, HackerRank, or Codewars to improve your \n",
       "coding skills.\n",
       "\n",
       "<span style=\"color: #008080; text-decoration-color: #008080; font-weight: bold\">5</span>. **Build Projects**: Work on small projects that interest you, such as a calculator, web scraper, or simple game,\n",
       "to apply what you've learned.\n",
       "\n",
       "<span style=\"color: #008080; text-decoration-color: #008080; font-weight: bold\">6</span>. **Join a Community**: Engage with other learners by joining forums like Stack Overflow or Reddit's r/learnpython\n",
       "to ask questions and share knowledge.\n",
       "\n",
       "<span style=\"color: #008080; text-decoration-color: #008080; font-weight: bold\">7</span>. **Explore Advanced Topics**: Once you're comfortable with the basics, explore more advanced topics like web \n",
       "development with Flask or Django, data analysis with Pandas, or machine learning with TensorFlow.\n",
       "\n",
       "Remember, practice and consistency are key to becoming proficient in Python!\n",
       "</pre>\n"
      ],
      "text/plain": [
       "To get started learning Python, you can follow these steps:\n",
       "\n",
       "\u001b[1;36m1\u001b[0m. **Install Python**: Download and install the latest version of Python from the official website \n",
       "\u001b[1m(\u001b[0m\u001b[4;94mhttps://www.python.org/downloads/\u001b[0m\u001b[4;94m)\u001b[0m\u001b[4;94m.\u001b[0m\n",
       "\n",
       "\u001b[1;36m2\u001b[0m. **Set Up an IDE**: Choose an Integrated Development Environment \u001b[1m(\u001b[0mIDE\u001b[1m)\u001b[0m to write your code. Popular options \n",
       "include PyCharm, Visual Studio Code, or even simple text editors like Sublime Text.\n",
       "\n",
       "\u001b[1;36m3\u001b[0m. **Learn the Basics**: Familiarize yourself with the basic syntax, data types, and control structures in Python. \n",
       "Resources like \u001b[32m\"Automate the Boring Stuff with Python\"\u001b[0m and Codecademy's Python course are great starting points.\n",
       "\n",
       "\u001b[1;36m4\u001b[0m. **Practice Coding**: Start solving problems on platforms like LeetCode, HackerRank, or Codewars to improve your \n",
       "coding skills.\n",
       "\n",
       "\u001b[1;36m5\u001b[0m. **Build Projects**: Work on small projects that interest you, such as a calculator, web scraper, or simple game,\n",
       "to apply what you've learned.\n",
       "\n",
       "\u001b[1;36m6\u001b[0m. **Join a Community**: Engage with other learners by joining forums like Stack Overflow or Reddit's r/learnpython\n",
       "to ask questions and share knowledge.\n",
       "\n",
       "\u001b[1;36m7\u001b[0m. **Explore Advanced Topics**: Once you're comfortable with the basics, explore more advanced topics like web \n",
       "development with Flask or Django, data analysis with Pandas, or machine learning with TensorFlow.\n",
       "\n",
       "Remember, practice and consistency are key to becoming proficient in Python!\n"
      ]
     },
     "metadata": {},
     "output_type": "display_data"
    }
   ],
   "source": [
    "response = agents.completion(\"I want to get started learning python\")\n",
    "\n",
    "print(response)"
   ]
  },
  {
   "cell_type": "markdown",
   "metadata": {},
   "source": [
    "## **Now lets go back to our original artifact**\n",
    "\n",
    "> We'll send a broad message, to test the agent."
   ]
  },
  {
   "cell_type": "code",
   "execution_count": 14,
   "metadata": {},
   "outputs": [
    {
     "name": "stderr",
     "output_type": "stream",
     "text": [
      "\u001b[32m2024-09-08 05:35:30.336\u001b[0m | \u001b[1mINFO    \u001b[0m | \u001b[36mzyx._client.memory\u001b[0m:\u001b[36madd\u001b[0m:\u001b[36m156\u001b[0m - \u001b[1mSuccessfully added 1 points to the collection.\u001b[0m\n",
      "\u001b[32m2024-09-08 05:35:35.343\u001b[0m | \u001b[1mINFO    \u001b[0m | \u001b[36mzyx._client.memory\u001b[0m:\u001b[36madd\u001b[0m:\u001b[36m156\u001b[0m - \u001b[1mSuccessfully added 1 points to the collection.\u001b[0m\n"
     ]
    },
    {
     "data": {
      "text/html": [
       "<pre style=\"white-space:pre;overflow-x:auto;line-height:normal;font-family:Menlo,'DejaVu Sans Mono',consolas,'Courier New',monospace\"><span style=\"color: #00ff00; text-decoration-color: #00ff00; font-style: italic\">True</span>\n",
       "</pre>\n"
      ],
      "text/plain": [
       "\u001b[3;92mTrue\u001b[0m\n"
      ]
     },
     "metadata": {},
     "output_type": "display_data"
    },
    {
     "data": {
      "text/html": [
       "<!DOCTYPE html>\n",
       "<html lang=\"en\">\n",
       "<head>\n",
       "    <meta charset=\"UTF-8\">\n",
       "    <meta name=\"viewport\" content=\"width=device-width, initial-scale=1.0\">\n",
       "    <title>My Website!</title>\n",
       "    <style>\n",
       "        .title-box {\n",
       "            border: 2px solid #000;\n",
       "            padding: 20px;\n",
       "            text-align: center;\n",
       "            font-size: 24px;\n",
       "            background-color: #f0f0f0;\n",
       "            color: blue;\n",
       "        }\n",
       "    </style>\n",
       "</head>\n",
       "<body>\n",
       "    <div class=\"title-box\">\n",
       "        My Website!\n",
       "    </div>\n",
       "</body>\n",
       "</html>"
      ],
      "text/plain": [
       "<IPython.core.display.HTML object>"
      ]
     },
     "metadata": {},
     "output_type": "display_data"
    }
   ],
   "source": [
    "response = agents.completion(\"Change the title to blue and name is 'My Website!'\")\n",
    "\n",
    "print(response)\n",
    "\n",
    "display(HTML(\"./zyx_tools/index.html\"))"
   ]
  }
 ],
 "metadata": {
  "kernelspec": {
   "display_name": "news",
   "language": "python",
   "name": "python3"
  },
  "language_info": {
   "codemirror_mode": {
    "name": "ipython",
    "version": 3
   },
   "file_extension": ".py",
   "mimetype": "text/x-python",
   "name": "python",
   "nbconvert_exporter": "python",
   "pygments_lexer": "ipython3",
   "version": "3.11.9"
  }
 },
 "nbformat": 4,
 "nbformat_minor": 2
}
