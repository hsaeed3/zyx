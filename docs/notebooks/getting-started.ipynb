{
 "cells": [
  {
   "cell_type": "markdown",
   "metadata": {},
   "source": [
    "# **zyx**\n",
    "\n",
    "> **zyx 0.3.00** - the first '*release*' of the library is out! </br>\n",
    "> All CrewAI & other obstructions have been removed, and the library is back to being lightweight.\n",
    "\n",
    "<code>zyx</code> is a **hyper-fast**, **fun**, & **ease-of-use** focused Python library for using LLMs. </br>\n",
    "It was created on top of <code>Instructor</code> and <code>LiteLLM</code>, and focuses to provide an abstraction free framework. </br>\n",
    "The library uses methods such as lazy-loading to provide a single import for all its features. This library is not meant to be used as a production-ready solution, but rather as a tool to quickly & easily experiment with LLMs. \n",
    "\n",
    "Some of the key features of <code>zyx</code> include:\n",
    "\n",
    "- **Universal Completion Client** : A singular function that handles *all LiteLLM compatible models*, *Pydantic structured outputs*, *tool calling & execution*, *prompt optimization*, *streaming* & *vision support*.\n",
    "- **A Large Collection of LLM Powered Functions** : This library is inspired by <code>MarvinAI</code>, and it's quick LLM function style framework and has built upon it vastly.\n",
    "- **Easy to Use Memory (Rag)** : A <code>Qdrant</code> wrapper, built to support easy *store creation*, *text/document/pydantic model data insertion*, *universal embedding provider support*, *LLM completions for RAG* & more.\n",
    "- **Multimodel Generations** : Supports generations for **images**, **audio** & **speech** transcription.\n",
    "- **Functional / Easy Access Terminal Client** : A terminal client built using <code>textual</code> to allow for easy access to <code>zyx</code> features.\n",
    "- ***New* Experimental Conversational Multi-Agent Framework** : Built from the ground up using <code>Instructor</code>, the agentic framework provides a solution towards conversationally state managed agents, with *task creation*, *custom tool use*, *artifact creation* & more.\n",
    "\n",
    "## **Getting Started**\n",
    "\n",
    "### Installation"
   ]
  },
  {
   "cell_type": "code",
   "execution_count": null,
   "metadata": {},
   "outputs": [],
   "source": [
    "! pip install zyx --upgrade --quiet"
   ]
  }
 ],
 "metadata": {
  "kernelspec": {
   "display_name": "zyx",
   "language": "python",
   "name": "python3"
  },
  "language_info": {
   "name": "python",
   "version": "3.11.9"
  }
 },
 "nbformat": 4,
 "nbformat_minor": 2
}
